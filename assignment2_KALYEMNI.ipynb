{
 "cells": [
  {
   "cell_type": "markdown",
   "metadata": {},
   "source": [
    "# Sparse Matrices "
   ]
  },
  {
   "cell_type": "code",
   "execution_count": 1,
   "metadata": {},
   "outputs": [],
   "source": [
    "%matplotlib inline\n",
    "import numpy as np\n",
    "import pandas as pd\n",
    "from scipy import sparse\n",
    "import scipy.sparse.linalg as spla\n",
    "import matplotlib.pyplot as plt\n",
    "import seaborn as sns"
   ]
  },
  {
   "cell_type": "code",
   "execution_count": 2,
   "metadata": {},
   "outputs": [],
   "source": [
    "sns.set_context('notebook', font_scale=1.5)"
   ]
  },
  {
   "cell_type": "markdown",
   "metadata": {},
   "source": [
    "## A review of the essentials\n",
    "\n",
    "There are many applications in which we deal with matrices that are mostly zeros. For example, a matrix representing a text corpus is very sparse - there are many thousands of words used but each document only uses a small subset of the total. Social networks are similar because there are a lot of people, but most people are only connected to a few hundred or thousand others directly. Storing such a social network as a sparse rather than dense matrix  will offer orders of magnitude reductions in memory requirements and corresponding speed-ups in computation."
   ]
  },
  {
   "cell_type": "markdown",
   "metadata": {},
   "source": [
    "### Coordinate format\n",
    "\n",
    "The simplest sparse  matrix format is built from the coordinates and values of the non-zero entries."
   ]
  },
  {
   "cell_type": "markdown",
   "metadata": {},
   "source": [
    "#### From dense matrix"
   ]
  },
  {
   "cell_type": "code",
   "execution_count": 4,
   "metadata": {},
   "outputs": [
    {
     "data": {
      "text/plain": [
       "array([[0, 0, 0, 0, 0, 0, 6, 0, 0, 8, 0, 0, 0, 0, 0],\n",
       "       [0, 0, 0, 0, 0, 0, 0, 0, 0, 4, 0, 8, 4, 0, 0],\n",
       "       [0, 7, 0, 0, 0, 0, 8, 0, 0, 0, 2, 0, 4, 0, 0],\n",
       "       [0, 0, 0, 0, 0, 0, 0, 0, 0, 7, 0, 0, 9, 0, 0],\n",
       "       [4, 0, 4, 0, 3, 7, 0, 0, 0, 0, 0, 0, 0, 0, 0]])"
      ]
     },
     "execution_count": 4,
     "metadata": {},
     "output_type": "execute_result"
    }
   ],
   "source": [
    "A = np.random.poisson(0.2, (5,15)) * np.random.randint(0, 10, (5, 15))\n",
    "A"
   ]
  },
  {
   "cell_type": "code",
   "execution_count": 7,
   "metadata": {},
   "outputs": [],
   "source": [
    "rows, cols = np.nonzero(A)\n",
    "vals = A[rows, cols]"
   ]
  },
  {
   "cell_type": "code",
   "execution_count": 8,
   "metadata": {},
   "outputs": [
    {
     "data": {
      "text/plain": [
       "array([6, 8, 4, 8, 4, 7, 8, 2, 4, 7, 9, 4, 4, 3, 7])"
      ]
     },
     "execution_count": 8,
     "metadata": {},
     "output_type": "execute_result"
    }
   ],
   "source": [
    "vals"
   ]
  },
  {
   "cell_type": "code",
   "execution_count": 9,
   "metadata": {},
   "outputs": [
    {
     "data": {
      "text/plain": [
       "array([0, 0, 1, 1, 1, 2, 2, 2, 2, 3, 3, 4, 4, 4, 4])"
      ]
     },
     "execution_count": 9,
     "metadata": {},
     "output_type": "execute_result"
    }
   ],
   "source": [
    "rows"
   ]
  },
  {
   "cell_type": "code",
   "execution_count": 10,
   "metadata": {},
   "outputs": [
    {
     "data": {
      "text/plain": [
       "array([ 6,  9,  9, 11, 12,  1,  6, 10, 12,  9, 12,  0,  2,  4,  5])"
      ]
     },
     "execution_count": 10,
     "metadata": {},
     "output_type": "execute_result"
    }
   ],
   "source": [
    "cols"
   ]
  },
  {
   "cell_type": "code",
   "execution_count": 11,
   "metadata": {},
   "outputs": [
    {
     "data": {
      "text/plain": [
       "<5x15 sparse matrix of type '<class 'numpy.int64'>'\n",
       "\twith 15 stored elements in COOrdinate format>"
      ]
     },
     "execution_count": 11,
     "metadata": {},
     "output_type": "execute_result"
    }
   ],
   "source": [
    "X1 = sparse.coo_matrix(A)\n",
    "X1"
   ]
  },
  {
   "cell_type": "code",
   "execution_count": 12,
   "metadata": {},
   "outputs": [
    {
     "name": "stdout",
     "output_type": "stream",
     "text": [
      "  (0, 6)\t6\n",
      "  (0, 9)\t8\n",
      "  (1, 9)\t4\n",
      "  (1, 11)\t8\n",
      "  (1, 12)\t4\n",
      "  (2, 1)\t7\n",
      "  (2, 6)\t8\n",
      "  (2, 10)\t2\n",
      "  (2, 12)\t4\n",
      "  (3, 9)\t7\n",
      "  (3, 12)\t9\n",
      "  (4, 0)\t4\n",
      "  (4, 2)\t4\n",
      "  (4, 4)\t3\n",
      "  (4, 5)\t7\n"
     ]
    }
   ],
   "source": [
    "print(X1)"
   ]
  },
  {
   "cell_type": "markdown",
   "metadata": {},
   "source": [
    "#### From coordinates\n",
    "\n",
    "Note that the (values, (rows, cols)) argument is a single tuple."
   ]
  },
  {
   "cell_type": "code",
   "execution_count": 13,
   "metadata": {},
   "outputs": [
    {
     "data": {
      "text/plain": [
       "<5x13 sparse matrix of type '<class 'numpy.int64'>'\n",
       "\twith 15 stored elements in COOrdinate format>"
      ]
     },
     "execution_count": 13,
     "metadata": {},
     "output_type": "execute_result"
    }
   ],
   "source": [
    "X2 = sparse.coo_matrix((vals, (rows, cols)))\n",
    "X2"
   ]
  },
  {
   "cell_type": "code",
   "execution_count": 14,
   "metadata": {},
   "outputs": [
    {
     "name": "stdout",
     "output_type": "stream",
     "text": [
      "  (0, 6)\t6\n",
      "  (0, 9)\t8\n",
      "  (1, 9)\t4\n",
      "  (1, 11)\t8\n",
      "  (1, 12)\t4\n",
      "  (2, 1)\t7\n",
      "  (2, 6)\t8\n",
      "  (2, 10)\t2\n",
      "  (2, 12)\t4\n",
      "  (3, 9)\t7\n",
      "  (3, 12)\t9\n",
      "  (4, 0)\t4\n",
      "  (4, 2)\t4\n",
      "  (4, 4)\t3\n",
      "  (4, 5)\t7\n"
     ]
    }
   ],
   "source": [
    "print(X2)"
   ]
  },
  {
   "cell_type": "markdown",
   "metadata": {},
   "source": [
    "#### Convert back to dense matrix"
   ]
  },
  {
   "cell_type": "code",
   "execution_count": 15,
   "metadata": {},
   "outputs": [
    {
     "data": {
      "text/plain": [
       "matrix([[0, 0, 0, 0, 0, 0, 6, 0, 0, 8, 0, 0, 0],\n",
       "        [0, 0, 0, 0, 0, 0, 0, 0, 0, 4, 0, 8, 4],\n",
       "        [0, 7, 0, 0, 0, 0, 8, 0, 0, 0, 2, 0, 4],\n",
       "        [0, 0, 0, 0, 0, 0, 0, 0, 0, 7, 0, 0, 9],\n",
       "        [4, 0, 4, 0, 3, 7, 0, 0, 0, 0, 0, 0, 0]])"
      ]
     },
     "execution_count": 15,
     "metadata": {},
     "output_type": "execute_result"
    }
   ],
   "source": [
    "X2.todense()"
   ]
  },
  {
   "cell_type": "markdown",
   "metadata": {},
   "source": [
    "## Compressed Sparse Row and Column formats\n",
    "\n",
    "When we have repeated entries in the rows or cols, we can remove the redundancy by indicating the  location of the  first occurrence of a value and its increment instead of the full coordinates. Note that the final index location  must be the number of rows or cols since there is no other way to know the shape. These are known as CSR or CSC formats."
   ]
  },
  {
   "cell_type": "code",
   "execution_count": 16,
   "metadata": {},
   "outputs": [
    {
     "data": {
      "text/plain": [
       "array([[ 0,  0,  1,  1,  1,  2,  2,  2,  2,  3,  3,  4,  4,  4,  4],\n",
       "       [ 6,  9,  9, 11, 12,  1,  6, 10, 12,  9, 12,  0,  2,  4,  5]])"
      ]
     },
     "execution_count": 16,
     "metadata": {},
     "output_type": "execute_result"
    }
   ],
   "source": [
    "np.vstack([rows, cols])"
   ]
  },
  {
   "cell_type": "code",
   "execution_count": 17,
   "metadata": {},
   "outputs": [
    {
     "data": {
      "text/plain": [
       "array([ 0,  2,  5,  9, 11, 15])"
      ]
     },
     "execution_count": 17,
     "metadata": {},
     "output_type": "execute_result"
    }
   ],
   "source": [
    "indptr = np.r_[np.searchsorted(rows, np.unique(rows)), len(rows)]\n",
    "indptr"
   ]
  },
  {
   "cell_type": "code",
   "execution_count": 18,
   "metadata": {},
   "outputs": [
    {
     "data": {
      "text/plain": [
       "<5x13 sparse matrix of type '<class 'numpy.int64'>'\n",
       "\twith 15 stored elements in Compressed Sparse Row format>"
      ]
     },
     "execution_count": 18,
     "metadata": {},
     "output_type": "execute_result"
    }
   ],
   "source": [
    "X3 = sparse.csr_matrix((vals, cols, indptr))\n",
    "X3"
   ]
  },
  {
   "cell_type": "code",
   "execution_count": 19,
   "metadata": {},
   "outputs": [
    {
     "name": "stdout",
     "output_type": "stream",
     "text": [
      "  (0, 6)\t6\n",
      "  (0, 9)\t8\n",
      "  (1, 9)\t4\n",
      "  (1, 11)\t8\n",
      "  (1, 12)\t4\n",
      "  (2, 1)\t7\n",
      "  (2, 6)\t8\n",
      "  (2, 10)\t2\n",
      "  (2, 12)\t4\n",
      "  (3, 9)\t7\n",
      "  (3, 12)\t9\n",
      "  (4, 0)\t4\n",
      "  (4, 2)\t4\n",
      "  (4, 4)\t3\n",
      "  (4, 5)\t7\n"
     ]
    }
   ],
   "source": [
    "print(X3)"
   ]
  },
  {
   "cell_type": "code",
   "execution_count": 20,
   "metadata": {},
   "outputs": [
    {
     "data": {
      "text/plain": [
       "matrix([[0, 0, 0, 0, 0, 0, 6, 0, 0, 8, 0, 0, 0],\n",
       "        [0, 0, 0, 0, 0, 0, 0, 0, 0, 4, 0, 8, 4],\n",
       "        [0, 7, 0, 0, 0, 0, 8, 0, 0, 0, 2, 0, 4],\n",
       "        [0, 0, 0, 0, 0, 0, 0, 0, 0, 7, 0, 0, 9],\n",
       "        [4, 0, 4, 0, 3, 7, 0, 0, 0, 0, 0, 0, 0]])"
      ]
     },
     "execution_count": 20,
     "metadata": {},
     "output_type": "execute_result"
    }
   ],
   "source": [
    "X3.todense()"
   ]
  },
  {
   "cell_type": "markdown",
   "metadata": {},
   "source": [
    "#### Casting from COO format\n",
    "\n",
    "Because the coordinate format is more intuitive, it is often more convenient to first create a COO matrix then cast to CSR or CSC form."
   ]
  },
  {
   "cell_type": "code",
   "execution_count": 21,
   "metadata": {},
   "outputs": [],
   "source": [
    "X4 = X2.tocsr()"
   ]
  },
  {
   "cell_type": "code",
   "execution_count": 22,
   "metadata": {},
   "outputs": [
    {
     "data": {
      "text/plain": [
       "<5x13 sparse matrix of type '<class 'numpy.int64'>'\n",
       "\twith 15 stored elements in Compressed Sparse Row format>"
      ]
     },
     "execution_count": 22,
     "metadata": {},
     "output_type": "execute_result"
    }
   ],
   "source": [
    "X4"
   ]
  },
  {
   "cell_type": "code",
   "execution_count": 23,
   "metadata": {},
   "outputs": [],
   "source": [
    "rows = np.repeat([0,1], 4)\n",
    "cols = np.repeat([0,1], 4)\n",
    "vals = np.arange(8)"
   ]
  },
  {
   "cell_type": "code",
   "execution_count": 24,
   "metadata": {},
   "outputs": [
    {
     "data": {
      "text/plain": [
       "array([0, 0, 0, 0, 1, 1, 1, 1])"
      ]
     },
     "execution_count": 24,
     "metadata": {},
     "output_type": "execute_result"
    }
   ],
   "source": [
    "rows"
   ]
  },
  {
   "cell_type": "code",
   "execution_count": 25,
   "metadata": {},
   "outputs": [
    {
     "data": {
      "text/plain": [
       "array([0, 0, 0, 0, 1, 1, 1, 1])"
      ]
     },
     "execution_count": 25,
     "metadata": {},
     "output_type": "execute_result"
    }
   ],
   "source": [
    "cols"
   ]
  },
  {
   "cell_type": "code",
   "execution_count": 26,
   "metadata": {},
   "outputs": [
    {
     "data": {
      "text/plain": [
       "array([0, 1, 2, 3, 4, 5, 6, 7])"
      ]
     },
     "execution_count": 26,
     "metadata": {},
     "output_type": "execute_result"
    }
   ],
   "source": [
    "vals"
   ]
  },
  {
   "cell_type": "code",
   "execution_count": 27,
   "metadata": {},
   "outputs": [],
   "source": [
    "X5 = sparse.coo_matrix((vals, (rows, cols)))"
   ]
  },
  {
   "cell_type": "code",
   "execution_count": 28,
   "metadata": {},
   "outputs": [
    {
     "data": {
      "text/plain": [
       "matrix([[ 6,  0],\n",
       "        [ 0, 22]])"
      ]
     },
     "execution_count": 28,
     "metadata": {},
     "output_type": "execute_result"
    }
   ],
   "source": [
    "X5.todense()"
   ]
  },
  {
   "cell_type": "markdown",
   "metadata": {},
   "source": [
    "## Question 1: Preparing the data\n",
    "\n",
    "Read in the data in from `airports.csv` and `names.csv`.  We are interested in the following columns\n",
    "\n",
    "* ORIGIN_AIRPORT_ID\t\n",
    "* DEST_AIRPORT_ID\n",
    "\n",
    "The second file will help us figure out what each code means\n",
    "\n",
    "Read both into data frames in a way that will allow you to lookup the `description` of an airport based on its ID."
   ]
  },
  {
   "cell_type": "code",
   "execution_count": 157,
   "metadata": {},
   "outputs": [
    {
     "data": {
      "text/html": [
       "<div>\n",
       "<style scoped>\n",
       "    .dataframe tbody tr th:only-of-type {\n",
       "        vertical-align: middle;\n",
       "    }\n",
       "\n",
       "    .dataframe tbody tr th {\n",
       "        vertical-align: top;\n",
       "    }\n",
       "\n",
       "    .dataframe thead th {\n",
       "        text-align: right;\n",
       "    }\n",
       "</style>\n",
       "<table border=\"1\" class=\"dataframe\">\n",
       "  <thead>\n",
       "    <tr style=\"text-align: right;\">\n",
       "      <th></th>\n",
       "      <th>ORIGIN_AIRPORT_ID</th>\n",
       "      <th>DEST_AIRPORT_ID</th>\n",
       "    </tr>\n",
       "  </thead>\n",
       "  <tbody>\n",
       "    <tr>\n",
       "      <td>0</td>\n",
       "      <td>10135</td>\n",
       "      <td>10397</td>\n",
       "    </tr>\n",
       "    <tr>\n",
       "      <td>1</td>\n",
       "      <td>10135</td>\n",
       "      <td>10397</td>\n",
       "    </tr>\n",
       "    <tr>\n",
       "      <td>2</td>\n",
       "      <td>10135</td>\n",
       "      <td>10397</td>\n",
       "    </tr>\n",
       "    <tr>\n",
       "      <td>3</td>\n",
       "      <td>10135</td>\n",
       "      <td>10397</td>\n",
       "    </tr>\n",
       "    <tr>\n",
       "      <td>4</td>\n",
       "      <td>10135</td>\n",
       "      <td>10397</td>\n",
       "    </tr>\n",
       "    <tr>\n",
       "      <td>...</td>\n",
       "      <td>...</td>\n",
       "      <td>...</td>\n",
       "    </tr>\n",
       "    <tr>\n",
       "      <td>445822</td>\n",
       "      <td>16218</td>\n",
       "      <td>14107</td>\n",
       "    </tr>\n",
       "    <tr>\n",
       "      <td>445823</td>\n",
       "      <td>16218</td>\n",
       "      <td>14107</td>\n",
       "    </tr>\n",
       "    <tr>\n",
       "      <td>445824</td>\n",
       "      <td>16218</td>\n",
       "      <td>14107</td>\n",
       "    </tr>\n",
       "    <tr>\n",
       "      <td>445825</td>\n",
       "      <td>16218</td>\n",
       "      <td>14107</td>\n",
       "    </tr>\n",
       "    <tr>\n",
       "      <td>445826</td>\n",
       "      <td>16218</td>\n",
       "      <td>14107</td>\n",
       "    </tr>\n",
       "  </tbody>\n",
       "</table>\n",
       "<p>445827 rows × 2 columns</p>\n",
       "</div>"
      ],
      "text/plain": [
       "        ORIGIN_AIRPORT_ID  DEST_AIRPORT_ID\n",
       "0                   10135            10397\n",
       "1                   10135            10397\n",
       "2                   10135            10397\n",
       "3                   10135            10397\n",
       "4                   10135            10397\n",
       "...                   ...              ...\n",
       "445822              16218            14107\n",
       "445823              16218            14107\n",
       "445824              16218            14107\n",
       "445825              16218            14107\n",
       "445826              16218            14107\n",
       "\n",
       "[445827 rows x 2 columns]"
      ]
     },
     "execution_count": 157,
     "metadata": {},
     "output_type": "execute_result"
    }
   ],
   "source": [
    "## ANSWER\n",
    "data = pd.read_csv('./data/airports.csv', sep=',')\n",
    "data = airports.drop(columns='Unnamed: 2')\n",
    "\n",
    "names = pd.read_csv('./data/names.csv', sep=',')\n",
    "names_dict = names.set_index('Code')['Description'].to_dict()\n",
    "\n"
   ]
  },
  {
   "cell_type": "code",
   "execution_count": 111,
   "metadata": {},
   "outputs": [
    {
     "data": {
      "text/html": [
       "<div>\n",
       "<style scoped>\n",
       "    .dataframe tbody tr th:only-of-type {\n",
       "        vertical-align: middle;\n",
       "    }\n",
       "\n",
       "    .dataframe tbody tr th {\n",
       "        vertical-align: top;\n",
       "    }\n",
       "\n",
       "    .dataframe thead th {\n",
       "        text-align: right;\n",
       "    }\n",
       "</style>\n",
       "<table border=\"1\" class=\"dataframe\">\n",
       "  <thead>\n",
       "    <tr style=\"text-align: right;\">\n",
       "      <th></th>\n",
       "      <th>Code</th>\n",
       "      <th>Description</th>\n",
       "    </tr>\n",
       "  </thead>\n",
       "  <tbody>\n",
       "    <tr>\n",
       "      <td>0</td>\n",
       "      <td>10001</td>\n",
       "      <td>Afognak Lake, AK: Afognak Lake Airport</td>\n",
       "    </tr>\n",
       "    <tr>\n",
       "      <td>1</td>\n",
       "      <td>10003</td>\n",
       "      <td>Granite Mountain, AK: Bear Creek Mining Strip</td>\n",
       "    </tr>\n",
       "    <tr>\n",
       "      <td>2</td>\n",
       "      <td>10004</td>\n",
       "      <td>Lik, AK: Lik Mining Camp</td>\n",
       "    </tr>\n",
       "    <tr>\n",
       "      <td>3</td>\n",
       "      <td>10005</td>\n",
       "      <td>Little Squaw, AK: Little Squaw Airport</td>\n",
       "    </tr>\n",
       "    <tr>\n",
       "      <td>4</td>\n",
       "      <td>10006</td>\n",
       "      <td>Kizhuyak, AK: Kizhuyak Bay</td>\n",
       "    </tr>\n",
       "    <tr>\n",
       "      <td>...</td>\n",
       "      <td>...</td>\n",
       "      <td>...</td>\n",
       "    </tr>\n",
       "    <tr>\n",
       "      <td>6399</td>\n",
       "      <td>16738</td>\n",
       "      <td>Bentonville, AR: Bentonville Municipal Louise ...</td>\n",
       "    </tr>\n",
       "    <tr>\n",
       "      <td>6400</td>\n",
       "      <td>16739</td>\n",
       "      <td>Columbus, OH: Bolton Field</td>\n",
       "    </tr>\n",
       "    <tr>\n",
       "      <td>6401</td>\n",
       "      <td>16740</td>\n",
       "      <td>Delaware, OH: Delaware Municipal Jim Moore Field</td>\n",
       "    </tr>\n",
       "    <tr>\n",
       "      <td>6402</td>\n",
       "      <td>16741</td>\n",
       "      <td>Selmer, TN: Robert Sibley</td>\n",
       "    </tr>\n",
       "    <tr>\n",
       "      <td>6403</td>\n",
       "      <td>99999</td>\n",
       "      <td>Unknown Point in Alaska</td>\n",
       "    </tr>\n",
       "  </tbody>\n",
       "</table>\n",
       "<p>6404 rows × 2 columns</p>\n",
       "</div>"
      ],
      "text/plain": [
       "       Code                                        Description\n",
       "0     10001             Afognak Lake, AK: Afognak Lake Airport\n",
       "1     10003      Granite Mountain, AK: Bear Creek Mining Strip\n",
       "2     10004                           Lik, AK: Lik Mining Camp\n",
       "3     10005             Little Squaw, AK: Little Squaw Airport\n",
       "4     10006                         Kizhuyak, AK: Kizhuyak Bay\n",
       "...     ...                                                ...\n",
       "6399  16738  Bentonville, AR: Bentonville Municipal Louise ...\n",
       "6400  16739                         Columbus, OH: Bolton Field\n",
       "6401  16740   Delaware, OH: Delaware Municipal Jim Moore Field\n",
       "6402  16741                          Selmer, TN: Robert Sibley\n",
       "6403  99999                            Unknown Point in Alaska\n",
       "\n",
       "[6404 rows x 2 columns]"
      ]
     },
     "execution_count": 111,
     "metadata": {},
     "output_type": "execute_result"
    }
   ],
   "source": [
    "names"
   ]
  },
  {
   "cell_type": "markdown",
   "metadata": {},
   "source": [
    "## Question 2: Summarize the data\n",
    "\n",
    "print out summarizing data that helps you understand the data set."
   ]
  },
  {
   "cell_type": "code",
   "execution_count": 139,
   "metadata": {},
   "outputs": [],
   "source": [
    "print(\"{} entries in the data set\".format(data.shape[0]))\n",
    "print(\"{} ORIGIN AIRPORTS\".format(np.unique(data[\"ORIGIN_AIRPORT_ID\"]).size))\n",
    "print(\"{} DEST AIRPORTS\".format(np.unique(data[\"DEST_AIRPORT_ID\"]).size))\n",
    "print(\"{} DESCRIBED AIRPORTS\".format(np.unique(lookup.index.tolist()).size))"
   ]
  },
  {
   "cell_type": "markdown",
   "metadata": {},
   "source": [
    "## Solving large sparse linear systems\n",
    "\n",
    "SciPy provides efficient routines for solving large sparse systems as for dense matrices. We will illustrate by calculating the page rank  for airports using data from the [Bureau of Transportation Statisitcs](http://www.transtats.bts.gov/DL_SelectFields.asp?Table_ID=236). The [PageRank](https://en.wikipedia.org/wiki/PageRank) algorithm is used to rank web pages for search results, but it can be used to rank any node in a directed graph (here we have airports instead of web pages). PageRank is fundamentally about finding the steady state in a Markov chain and can be solved as a linear system.\n",
    "\n",
    "The update at each time step for the page rank $PR$ of a page $p_i$ is \n",
    "\n",
    "![i0](https://wikimedia.org/api/rest_v1/media/math/render/svg/8a8c0a807f62331cc1740dd6c0f28ac1809926c7)\n",
    "\n",
    "In the above equation, $B_u$ is the set of all nodes $v$ that link to $u$, where each $v$ node contributes its page rank divided by its number of outgoing links $L(v)$. So a node $v$ with a high page rank contributes a large value to a linked node $u$ if $v$ has relatively few other links. \n",
    "\n",
    "The figure shows a network with four nodes, all of which start with a page rank of $1/4$. The values on the edges shows how much of its page rank one nodes contributes to its linked nodes in the first step.\n",
    "\n",
    "By letting the sum of all page ranks to be equal to one, we essentially have a probability distribution over the nodes of the graph. Since the state of the graph only depends on its previous state, we have a Markov chain. If we assume that every node can be reached from every other node, the system will have a steady state - which is what the PageRank algorithm seeks to find. To guard against case where a node has out-degree 0, we allow every node a small random chance of transitioning to any other node using a damping factor $d$. Then we solve  the linear system  to find the pagerank score $R$.\n",
    "\n",
    "\n",
    "![i1](https://wikimedia.org/api/rest_v1/media/math/render/svg/6bb0f1469218a064274fd4691143e9ce64639dc2)\n",
    "\n",
    "In matrix notation, this is\n",
    "\n",
    "![i2](https://wikimedia.org/api/rest_v1/media/math/render/svg/96265e6c41318e793194287f36b5f929075bb876)\n",
    "\n",
    "where\n",
    "\n",
    "![i2.5](https://wikimedia.org/api/rest_v1/media/math/render/svg/3e82b446a376633a386b10668703a4547f167d1c)\n",
    "\n",
    "At steady state,\n",
    "\n",
    "![i3](https://wikimedia.org/api/rest_v1/media/math/render/svg/65d2fed50688deaca4640b117c88a9e7a3c2ef0d)\n",
    "\n",
    "and we can rearrange terms to solve for $R$\n",
    "\n",
    "![i4](https://wikimedia.org/api/rest_v1/media/math/render/svg/985f19f0c6b69d3a8afb5acc38339ebe4915baa7)\n",
    "\n"
   ]
  },
  {
   "cell_type": "markdown",
   "metadata": {},
   "source": [
    "## Working with graphs \n",
    "\n",
    "We will use the Python package NetworkX for this example, but later in the week we will dig into this package."
   ]
  },
  {
   "cell_type": "code",
   "execution_count": 114,
   "metadata": {},
   "outputs": [],
   "source": [
    "import networkx as nx"
   ]
  },
  {
   "cell_type": "markdown",
   "metadata": {},
   "source": [
    "## Question 3: create matrix that represents a graph\n",
    "\n",
    "Use the following code to construct an [adjacency matrix](https://en.wikipedia.org/wiki/Adjacency_matrix), using the package NetworkX.\n",
    "\n",
    "```python\n",
    "\n",
    "g = nx.from_pandas_edgelist(data, source='ORIGIN_AIRPORT_ID', target='DEST_AIRPORT_ID')\n",
    "airports = np.array(g.nodes())\n",
    "adj_matrix = nx.to_scipy_sparse_matrix(g)\n",
    "```\n",
    "\n",
    "1. What kind of matrix are we working with?\n",
    "2. Calculate the sparsity\n",
    "3. Also stage the adjacency matrix for future use (save it to disk)."
   ]
  },
  {
   "cell_type": "code",
   "execution_count": 160,
   "metadata": {},
   "outputs": [
    {
     "data": {
      "text/plain": [
       "OutDegreeView({10135: 3, 10397: 158, 11433: 99, 13930: 138, 10140: 21, 11298: 107, 14747: 71, 12478: 56, 13487: 108, 14869: 78, 12266: 109, 11292: 127, 14107: 78, 14771: 75, 12892: 73, 10821: 62, 11259: 52, 12191: 47, 12889: 74, 13198: 37, 13232: 62, 13796: 32, 14057: 43, 14679: 45, 10141: 1, 10146: 1, 10155: 1, 10157: 1, 10158: 6, 11697: 60, 13577: 5, 14027: 19, 13204: 68, 15304: 55, 14635: 35, 10165: 1, 10299: 22, 10170: 1, 10185: 3, 10208: 1, 10257: 12, 11057: 62, 11618: 82, 10279: 4, 12173: 28, 12758: 12, 10551: 1, 14709: 2, 10754: 3, 12523: 6, 10926: 2, 13873: 2, 13970: 2, 11630: 2, 13830: 18, 10333: 1, 10372: 7, 13303: 38, 14100: 38, 12953: 53, 13495: 36, 11066: 24, 13931: 10, 10423: 40, 11986: 13, 10721: 55, 11612: 3, 10529: 21, 10434: 4, 10693: 42, 12451: 17, 14122: 26, 14492: 31, 11252: 2, 13871: 17, 15323: 1, 15016: 45, 14307: 12, 11109: 8, 14683: 29, 11278: 44, 14908: 22, 11193: 24, 11973: 3, 14098: 1, 13244: 17, 14730: 15, 13360: 1, 10849: 10, 14893: 26, 11503: 9, 11540: 11, 14685: 7, 10980: 3, 14321: 8, 10792: 16, 10599: 13, 14524: 13, 10990: 3, 11267: 9, 12945: 5, 11624: 1, 12278: 9, 13230: 4, 13342: 27, 13851: 20, 11481: 5, 15624: 3, 11042: 28, 11996: 8, 10408: 4, 10994: 17, 12951: 3, 13502: 10, 14783: 3, 10874: 9, 12264: 31, 14843: 23, 12339: 26, 15096: 9, 15024: 11, 15027: 4, 11641: 1, 11995: 7, 14193: 6, 15376: 16, 14986: 7, 12323: 2, 12992: 11, 14574: 2, 12441: 13, 14576: 11, 13296: 8, 12448: 4, 15370: 15, 12217: 5, 15412: 6, 14831: 25, 11721: 8, 15249: 2, 10868: 5, 12094: 9, 13485: 8, 10431: 3, 15919: 8, 11977: 4, 13422: 3, 11146: 3, 10685: 3, 11423: 12, 14814: 4, 11953: 1, 11775: 4, 11637: 4, 14108: 6, 10781: 4, 10785: 6, 13795: 1, 15607: 1, 13277: 1, 12197: 7, 11982: 3, 12007: 1, 13367: 5, 11778: 2, 11003: 5, 10731: 1, 11308: 1, 11150: 1, 13377: 3, 13029: 4, 11537: 3, 14633: 2, 11617: 1, 14711: 2, 15356: 10, 11823: 4, 14696: 6, 12954: 10, 12206: 3, 12896: 7, 10469: 3, 10561: 3, 10577: 1, 10581: 2, 10620: 4, 10627: 2, 10631: 1, 10666: 4, 10713: 16, 15041: 3, 11884: 9, 10728: 1, 10732: 4, 10739: 1, 10747: 2, 10779: 1, 10800: 11, 12391: 5, 10918: 1, 15991: 2, 11013: 1, 11049: 1, 11076: 1, 11097: 2, 11122: 2, 11140: 2, 11203: 1, 13158: 6, 13486: 4, 13388: 2, 12012: 4, 11921: 4, 12003: 3, 14457: 4, 14262: 12, 11413: 2, 14252: 5, 14794: 3, 14689: 6, 12280: 2, 12389: 3, 12888: 1, 13891: 12, 11648: 3, 14489: 3, 11603: 5, 12519: 2, 13433: 2, 11865: 2, 12156: 3, 13264: 3, 11638: 9, 14570: 12, 12982: 11, 14543: 1, 12255: 1, 13256: 2, 13241: 2, 12891: 1, 14674: 1, 13061: 2, 15411: 2, 15401: 1, 12511: 1, 14588: 1, 14952: 2, 11337: 2, 12884: 3, 15380: 2, 13184: 3, 14150: 1, 12397: 1, 13459: 1, 11587: 1, 11447: 2, 11471: 1, 11525: 1, 11577: 1, 11695: 1, 15070: 5, 13933: 2, 12265: 1, 12898: 4, 14025: 1, 11898: 1, 12016: 1, 12129: 2, 12343: 2, 12402: 3, 14222: 1, 12177: 1, 12915: 1, 12335: 2, 14520: 2, 14254: 2, 12819: 4, 14828: 2, 14256: 2, 15841: 2, 13476: 3, 14698: 3, 13076: 1, 13127: 2, 14109: 2, 13344: 1, 14006: 1, 13964: 1, 16218: 1, 14113: 1, 14487: 1, 14905: 1, 15389: 3, 15497: 1})"
      ]
     },
     "execution_count": 160,
     "metadata": {},
     "output_type": "execute_result"
    }
   ],
   "source": [
    "g = nx.from_pandas_edgelist(data, source='ORIGIN_AIRPORT_ID', target='DEST_AIRPORT_ID')\n",
    "airports = np.array(g.nodes())\n",
    "adj_matrix = nx.to_scipy_sparse_matrix(g)\n",
    "\n",
    "print(\"object type\", type(adj_matrix))\n",
    "sparsity = 1.0 - (adj_matrix.count_nonzero() / adj_matrix.shape[0]**2)\n",
    "\n",
    "## or because it is a fairly small matrix\n",
    "A = adj_matrix.todense()\n",
    "print('sparsity',round(1.0 - (np.count_nonzero(A) / A.size),3))\n",
    "\n",
    "file_name = \"airport_smatrix.npz\"\n",
    "sparse.save_npz(file_name, adj_matrix)\n",
    "AA = sparse.load_npz(file_name)\n",
    "print(\"object loaded from file\", AA.shape)"
   ]
  },
  {
   "cell_type": "markdown",
   "metadata": {},
   "source": [
    "## Question 4: Construct the transition matrix\n",
    "\n",
    "These are the necessary steps to construct a [transition matrix](https://en.wikipedia.org/wiki/Stochastic_matrix)\n",
    "\n",
    "1. determine the out degree (the number of outward edges connected to a node)\n",
    "\n",
    "The output will be a `np.array` with 294 elements each corresponding to the number of outbound flights\n",
    "\n",
    "2. Create a diag_matrix using `scipy.sparse.diag` that uses `1/out_degrees`.  Then transform it to a csr matrix.\n",
    "\n",
    "The matrix should be 294 x 294\n",
    "\n",
    "3. Use matrix multiplication to multiply the diagonal matrix by the adjacency matrix.  Then transpose the result.\n",
    "\n",
    "The matrix should be 294 x 294"
   ]
  },
  {
   "cell_type": "code",
   "execution_count": 161,
   "metadata": {},
   "outputs": [
    {
     "data": {
      "text/plain": [
       "OutDegreeView({10135: 3, 10397: 158, 11433: 99, 13930: 138, 10140: 21, 11298: 107, 14747: 71, 12478: 56, 13487: 108, 14869: 78, 12266: 109, 11292: 127, 14107: 78, 14771: 75, 12892: 73, 10821: 62, 11259: 52, 12191: 47, 12889: 74, 13198: 37, 13232: 62, 13796: 32, 14057: 43, 14679: 45, 10141: 1, 10146: 1, 10155: 1, 10157: 1, 10158: 6, 11697: 60, 13577: 5, 14027: 19, 13204: 68, 15304: 55, 14635: 35, 10165: 1, 10299: 22, 10170: 1, 10185: 3, 10208: 1, 10257: 12, 11057: 62, 11618: 82, 10279: 4, 12173: 28, 12758: 12, 10551: 1, 14709: 2, 10754: 3, 12523: 6, 10926: 2, 13873: 2, 13970: 2, 11630: 2, 13830: 18, 10333: 1, 10372: 7, 13303: 38, 14100: 38, 12953: 53, 13495: 36, 11066: 24, 13931: 10, 10423: 40, 11986: 13, 10721: 55, 11612: 3, 10529: 21, 10434: 4, 10693: 42, 12451: 17, 14122: 26, 14492: 31, 11252: 2, 13871: 17, 15323: 1, 15016: 45, 14307: 12, 11109: 8, 14683: 29, 11278: 44, 14908: 22, 11193: 24, 11973: 3, 14098: 1, 13244: 17, 14730: 15, 13360: 1, 10849: 10, 14893: 26, 11503: 9, 11540: 11, 14685: 7, 10980: 3, 14321: 8, 10792: 16, 10599: 13, 14524: 13, 10990: 3, 11267: 9, 12945: 5, 11624: 1, 12278: 9, 13230: 4, 13342: 27, 13851: 20, 11481: 5, 15624: 3, 11042: 28, 11996: 8, 10408: 4, 10994: 17, 12951: 3, 13502: 10, 14783: 3, 10874: 9, 12264: 31, 14843: 23, 12339: 26, 15096: 9, 15024: 11, 15027: 4, 11641: 1, 11995: 7, 14193: 6, 15376: 16, 14986: 7, 12323: 2, 12992: 11, 14574: 2, 12441: 13, 14576: 11, 13296: 8, 12448: 4, 15370: 15, 12217: 5, 15412: 6, 14831: 25, 11721: 8, 15249: 2, 10868: 5, 12094: 9, 13485: 8, 10431: 3, 15919: 8, 11977: 4, 13422: 3, 11146: 3, 10685: 3, 11423: 12, 14814: 4, 11953: 1, 11775: 4, 11637: 4, 14108: 6, 10781: 4, 10785: 6, 13795: 1, 15607: 1, 13277: 1, 12197: 7, 11982: 3, 12007: 1, 13367: 5, 11778: 2, 11003: 5, 10731: 1, 11308: 1, 11150: 1, 13377: 3, 13029: 4, 11537: 3, 14633: 2, 11617: 1, 14711: 2, 15356: 10, 11823: 4, 14696: 6, 12954: 10, 12206: 3, 12896: 7, 10469: 3, 10561: 3, 10577: 1, 10581: 2, 10620: 4, 10627: 2, 10631: 1, 10666: 4, 10713: 16, 15041: 3, 11884: 9, 10728: 1, 10732: 4, 10739: 1, 10747: 2, 10779: 1, 10800: 11, 12391: 5, 10918: 1, 15991: 2, 11013: 1, 11049: 1, 11076: 1, 11097: 2, 11122: 2, 11140: 2, 11203: 1, 13158: 6, 13486: 4, 13388: 2, 12012: 4, 11921: 4, 12003: 3, 14457: 4, 14262: 12, 11413: 2, 14252: 5, 14794: 3, 14689: 6, 12280: 2, 12389: 3, 12888: 1, 13891: 12, 11648: 3, 14489: 3, 11603: 5, 12519: 2, 13433: 2, 11865: 2, 12156: 3, 13264: 3, 11638: 9, 14570: 12, 12982: 11, 14543: 1, 12255: 1, 13256: 2, 13241: 2, 12891: 1, 14674: 1, 13061: 2, 15411: 2, 15401: 1, 12511: 1, 14588: 1, 14952: 2, 11337: 2, 12884: 3, 15380: 2, 13184: 3, 14150: 1, 12397: 1, 13459: 1, 11587: 1, 11447: 2, 11471: 1, 11525: 1, 11577: 1, 11695: 1, 15070: 5, 13933: 2, 12265: 1, 12898: 4, 14025: 1, 11898: 1, 12016: 1, 12129: 2, 12343: 2, 12402: 3, 14222: 1, 12177: 1, 12915: 1, 12335: 2, 14520: 2, 14254: 2, 12819: 4, 14828: 2, 14256: 2, 15841: 2, 13476: 3, 14698: 3, 13076: 1, 13127: 2, 14109: 2, 13344: 1, 14006: 1, 13964: 1, 16218: 1, 14113: 1, 14487: 1, 14905: 1, 15389: 3, 15497: 1})"
      ]
     },
     "execution_count": 161,
     "metadata": {},
     "output_type": "execute_result"
    }
   ],
   "source": [
    "## Answer\n",
    "out_degrees = np.ravel(adj_matrix.sum(axis=1))\n",
    "print(out_degrees.shape)\n",
    "diag_matrix = sparse.diags(1 / out_degrees).tocsr()\n",
    "print(diag_matrix.shape)\n",
    "M = (diag_matrix @ adj_matrix).T\n",
    "print(M.shape)"
   ]
  },
  {
   "cell_type": "markdown",
   "metadata": {},
   "source": [
    "## Question 5: Create the equation that we need to use to solve for steady states\n",
    "\n",
    "use the following code to create the equation\n",
    "\n",
    "```\n",
    "n = len(airports) \n",
    "d = 0.85 \n",
    "I = sparse.eye(n, format='csc')\n",
    "A = I - d * M\n",
    "b = (1-d) / n * np.ones(n) # so the sum of all page ranks is 1\n",
    "```\n",
    "\n",
    "For each line write a comment that explains the step in the process"
   ]
  },
  {
   "cell_type": "code",
   "execution_count": 30,
   "metadata": {},
   "outputs": [],
   "source": [
    "## size of the system\n",
    "n = len(airports) \n",
    "\n",
    "## damping factor (modulated the random chance of transitioning to any other node)\n",
    "d = 0.85 \n",
    "\n",
    "## component needed to represent first part of linear system\n",
    "I = sparse.eye(n, format='csc')\n",
    "\n",
    "## first part of linear system\n",
    "A = I - d * M\n",
    "\n",
    "## second part of linear system\n",
    "b = (1-d) / n * np.ones(n) # so the sum of all page ranks is 1\n",
    "\n",
    "print(A.shape)\n",
    "print(b.shape)"
   ]
  },
  {
   "cell_type": "markdown",
   "metadata": {},
   "source": [
    "## Question 6: Solve linear system\n",
    "\n",
    "1. Use [spsolve](https://docs.scipy.org/doc/scipy-0.14.0/reference/generated/scipy.sparse.linalg.spsolve.html) to solve the linear system. Each value represents the page rank for a specific airport.\n",
    "\n",
    "HINT: your result should sum to 1.0\n",
    "\n",
    "2. use the sorted result to index back into your data to print Description, degree, and page rank.  Print the top 10.\n"
   ]
  },
  {
   "cell_type": "code",
   "execution_count": 31,
   "metadata": {},
   "outputs": [],
   "source": [
    "from scipy.sparse.linalg import spsolve"
   ]
  },
  {
   "cell_type": "code",
   "execution_count": 32,
   "metadata": {},
   "outputs": [],
   "source": [
    "## Answer\n",
    "r =  spsolve(A, b)\n",
    "r.sum()\n",
    "idx = np.argsort(r)\n",
    "top10 = idx[-10:][::-1]\n",
    "bot10 = idx[:10]"
   ]
  },
  {
   "cell_type": "code",
   "execution_count": 32,
   "metadata": {},
   "outputs": [],
   "source": [
    "df = lookup.loc[airports[top10]]\n",
    "df['degree'] = out_degrees[top10]\n",
    "df['pagerank']= r[top10]\n",
    "df"
   ]
  },
  {
   "cell_type": "code",
   "execution_count": 32,
   "metadata": {},
   "outputs": [],
   "source": [
    "df = lookup.loc[airports[bot10]]\n",
    "df['degree'] = out_degrees[bot10]\n",
    "df['pagerank']= r[bot10]\n",
    "df"
   ]
  },
  {
   "cell_type": "markdown",
   "metadata": {},
   "source": [
    "## Question 7:  Visualize the airport connections graph  (Extra Credit)\n",
    "\n",
    "NetworkX has many [drawing capabilities](https://networkx.github.io/documentation/stable/reference/drawing.html).  \n",
    "\n",
    "1. Go through [this tutorial](https://networkx.github.io/documentation/stable/tutorial.html) to familiarize yourself with how to work with graphs. Hint the variable, `g` should still be a NetworkX Graph object. \n",
    "\n",
    "2. Use the `Drawing Graphs` section to create a visualization of this network\n",
    "\n",
    "3. Create a visualization that labels the top 5 airports by pagerank"
   ]
  },
  {
   "cell_type": "code",
   "execution_count": 33,
   "metadata": {},
   "outputs": [],
   "source": [
    "## Answer\n",
    "\n",
    "\n"
   ]
  }
 ],
 "metadata": {
  "kernelspec": {
   "display_name": "Python 3",
   "language": "python",
   "name": "python3"
  },
  "language_info": {
   "codemirror_mode": {
    "name": "ipython",
    "version": 3
   },
   "file_extension": ".py",
   "mimetype": "text/x-python",
   "name": "python",
   "nbconvert_exporter": "python",
   "pygments_lexer": "ipython3",
   "version": "3.7.4"
  },
  "latex_envs": {
   "bibliofile": "biblio.bib",
   "cite_by": "apalike",
   "current_citInitial": 1,
   "eqLabelWithNumbers": true,
   "eqNumInitial": 0
  }
 },
 "nbformat": 4,
 "nbformat_minor": 4
}
