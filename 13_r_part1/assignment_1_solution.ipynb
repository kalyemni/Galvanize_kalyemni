{
 "cells": [
  {
   "cell_type": "code",
   "execution_count": 3,
   "metadata": {},
   "outputs": [],
   "source": [
    "Q1 = function() {\n",
    "    num = readline(\"enter a number\")\n",
    "    if(num > 0){\n",
    "        print(\"The inputted number is positive\")\n",
    "    }else if(num < 0){\n",
    "        print(\"The inputted number is negative\")\n",
    "    }else{\n",
    "        print(\"The inputted number is zero\")\n",
    "    }    \n",
    "}\n"
   ]
  },
  {
   "cell_type": "code",
   "execution_count": 6,
   "metadata": {},
   "outputs": [
    {
     "name": "stdin",
     "output_type": "stream",
     "text": [
      "enter a number -2\n"
     ]
    },
    {
     "name": "stdout",
     "output_type": "stream",
     "text": [
      "[1] \"The inputted number is negative\"\n"
     ]
    }
   ],
   "source": [
    "Q1()\n"
   ]
  },
  {
   "cell_type": "code",
   "execution_count": 12,
   "metadata": {},
   "outputs": [],
   "source": [
    "Q2 = function() {\n",
    "    num_1 = readline(\"enter first number\")\n",
    "    num_2 = readline(\"enter second number\")\n",
    "\n",
    "    if(num_1 > num_2){\n",
    "        print(\"The first number is larger\")\n",
    "    }else if(num_1 < num_2){\n",
    "        print(\"The second number is larger\")\n",
    "    }else{\n",
    "        print(\"They are equal\")\n",
    "    }    \n",
    "}"
   ]
  },
  {
   "cell_type": "code",
   "execution_count": 14,
   "metadata": {},
   "outputs": [
    {
     "name": "stdin",
     "output_type": "stream",
     "text": [
      "enter first number 3\n",
      "enter second number 5\n"
     ]
    },
    {
     "name": "stdout",
     "output_type": "stream",
     "text": [
      "[1] \"The second number is larger\"\n"
     ]
    }
   ],
   "source": [
    "Q2()"
   ]
  },
  {
   "cell_type": "code",
   "execution_count": 19,
   "metadata": {},
   "outputs": [],
   "source": [
    "Q3 = function() {\n",
    "    num = readline(\"enter a number\")\n",
    "    sum(seq(1,num))\n",
    "}"
   ]
  },
  {
   "cell_type": "code",
   "execution_count": 18,
   "metadata": {},
   "outputs": [
    {
     "name": "stdin",
     "output_type": "stream",
     "text": [
      "enter a number 9\n"
     ]
    },
    {
     "data": {
      "text/html": [
       "45"
      ],
      "text/latex": [
       "45"
      ],
      "text/markdown": [
       "45"
      ],
      "text/plain": [
       "[1] 45"
      ]
     },
     "metadata": {},
     "output_type": "display_data"
    }
   ],
   "source": [
    "Q3()"
   ]
  },
  {
   "cell_type": "code",
   "execution_count": 20,
   "metadata": {},
   "outputs": [],
   "source": [
    "Q4 = function() {\n",
    "    num = readline(\"enter a number\")\n",
    "    prod(seq(1,num))\n",
    "}"
   ]
  },
  {
   "cell_type": "code",
   "execution_count": 26,
   "metadata": {},
   "outputs": [
    {
     "name": "stdin",
     "output_type": "stream",
     "text": [
      "enter a number 5\n"
     ]
    },
    {
     "data": {
      "text/html": [
       "120"
      ],
      "text/latex": [
       "120"
      ],
      "text/markdown": [
       "120"
      ],
      "text/plain": [
       "[1] 120"
      ]
     },
     "metadata": {},
     "output_type": "display_data"
    }
   ],
   "source": [
    "Q4()"
   ]
  },
  {
   "cell_type": "code",
   "execution_count": 37,
   "metadata": {},
   "outputs": [],
   "source": [
    "Q5 = function() {\n",
    "    num = as.numeric(readline(\"enter a number\"))\n",
    "    data = seq(1,num)\n",
    "    for (i in data){\n",
    "        if(num%%i==0)\n",
    "            print(i)\n",
    "    }\n",
    "}"
   ]
  },
  {
   "cell_type": "code",
   "execution_count": 40,
   "metadata": {},
   "outputs": [
    {
     "name": "stdin",
     "output_type": "stream",
     "text": [
      "enter a number 20\n"
     ]
    },
    {
     "name": "stdout",
     "output_type": "stream",
     "text": [
      "[1] 1\n",
      "[1] 2\n",
      "[1] 4\n",
      "[1] 5\n",
      "[1] 10\n",
      "[1] 20\n"
     ]
    }
   ],
   "source": [
    "Q5()"
   ]
  },
  {
   "cell_type": "code",
   "execution_count": 58,
   "metadata": {},
   "outputs": [],
   "source": [
    "Q6 = function() {\n",
    "    num_1 = as.numeric(readline(\"enter first number\"))\n",
    "    num_2 = as.numeric(readline(\"enter second number\"))\n",
    "    \n",
    "    data_1 = seq(2,num_1)\n",
    "    num_1_devisors = 1\n",
    "    for (i in data_1){\n",
    "        if(num_1%%i==0)\n",
    "            num_1_devisors = c(num_1_devisors, i)\n",
    "    }\n",
    "    \n",
    "    data_2 = seq(2,num_2)\n",
    "    num_2_devisors = 1\n",
    "    for (i in data_2){\n",
    "        if(num_2%%i==0)\n",
    "            num_2_devisors = c(num_2_devisors, i)\n",
    "    }\n",
    "    \n",
    "    common = 1\n",
    "    for(i in num_1_devisors){\n",
    "        for (j in num_2_devisors){\n",
    "            if(i==j)\n",
    "                common = c(common, i)\n",
    "        }\n",
    "    }\n",
    "    \n",
    "    max(common)\n",
    "}"
   ]
  },
  {
   "cell_type": "code",
   "execution_count": 99,
   "metadata": {},
   "outputs": [
    {
     "name": "stdin",
     "output_type": "stream",
     "text": [
      "enter first number 16\n",
      "enter second number 20\n"
     ]
    },
    {
     "data": {
      "text/html": [
       "4"
      ],
      "text/latex": [
       "4"
      ],
      "text/markdown": [
       "4"
      ],
      "text/plain": [
       "[1] 4"
      ]
     },
     "metadata": {},
     "output_type": "display_data"
    }
   ],
   "source": [
    "Q6()"
   ]
  },
  {
   "cell_type": "code",
   "execution_count": 66,
   "metadata": {},
   "outputs": [],
   "source": [
    "Q7 = function() {\n",
    "    num_1 = as.numeric(readline(\"enter first number\"))\n",
    "    num_2 = as.numeric(readline(\"enter second number\"))\n",
    "    \n",
    "    data_1 = seq(2,num_1)\n",
    "    num_1_devisors = 1\n",
    "    for (i in data_1){\n",
    "        if(num_1%%i==0)\n",
    "            num_1_devisors = c(num_1_devisors, i)\n",
    "    }\n",
    "    \n",
    "    data_2 = seq(2,num_2)\n",
    "    num_2_devisors = 1\n",
    "    for (i in data_2){\n",
    "        if(num_2%%i==0)\n",
    "            num_2_devisors = c(num_2_devisors, i)\n",
    "    }\n",
    "    \n",
    "    common = 1\n",
    "    for(i in num_1_devisors){\n",
    "        for (j in num_2_devisors){\n",
    "            if(i==j)\n",
    "                common = c(common, i)\n",
    "        }\n",
    "    }\n",
    "    \n",
    "    result = abs(num_1*num_2)/max(common)\n",
    "    result \n",
    "}"
   ]
  },
  {
   "cell_type": "code",
   "execution_count": 98,
   "metadata": {},
   "outputs": [
    {
     "name": "stdin",
     "output_type": "stream",
     "text": [
      "enter first number 6\n",
      "enter second number 4\n"
     ]
    },
    {
     "data": {
      "text/html": [
       "12"
      ],
      "text/latex": [
       "12"
      ],
      "text/markdown": [
       "12"
      ],
      "text/plain": [
       "[1] 12"
      ]
     },
     "metadata": {},
     "output_type": "display_data"
    }
   ],
   "source": [
    "Q7()"
   ]
  },
  {
   "cell_type": "code",
   "execution_count": 91,
   "metadata": {},
   "outputs": [],
   "source": [
    "Q8 = function() {\n",
    "    num = as.numeric(readline(\"enter a number\"))\n",
    "\n",
    "    if (num == 2) {\n",
    "      print(\"The number you inputted is a prime number.\")\n",
    "    } else if (any(num %% 2:(num-1) == 0)) {\n",
    "      print(\"The number you inputted is (not) a prime number.\")\n",
    "    } else { \n",
    "      print(\"The number you inputted is a prime number.\")\n",
    "    }\n",
    "}"
   ]
  },
  {
   "cell_type": "code",
   "execution_count": 96,
   "metadata": {},
   "outputs": [
    {
     "name": "stdin",
     "output_type": "stream",
     "text": [
      "enter a number 7\n"
     ]
    },
    {
     "name": "stdout",
     "output_type": "stream",
     "text": [
      "[1] \"The number you inputted is a prime number.\"\n"
     ]
    }
   ],
   "source": [
    "Q8()"
   ]
  },
  {
   "cell_type": "code",
   "execution_count": 106,
   "metadata": {},
   "outputs": [],
   "source": [
    "Q9 = function() {\n",
    "    n = as.numeric(readline(\"enter a number\"))\n",
    "    a = list()\n",
    "    for (i in n-1){\n",
    "        a\n",
    "    }\n",
    "}"
   ]
  },
  {
   "cell_type": "code",
   "execution_count": null,
   "metadata": {},
   "outputs": [],
   "source": []
  },
  {
   "cell_type": "code",
   "execution_count": null,
   "metadata": {},
   "outputs": [],
   "source": []
  }
 ],
 "metadata": {
  "kernelspec": {
   "display_name": "R",
   "language": "R",
   "name": "ir"
  },
  "language_info": {
   "codemirror_mode": "r",
   "file_extension": ".r",
   "mimetype": "text/x-r-source",
   "name": "R",
   "pygments_lexer": "r",
   "version": "3.6.1"
  }
 },
 "nbformat": 4,
 "nbformat_minor": 4
}
