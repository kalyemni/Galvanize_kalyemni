{
 "cells": [
  {
   "cell_type": "markdown",
   "metadata": {},
   "source": [
    "### R Fundamentals: Lesson 2"
   ]
  },
  {
   "cell_type": "code",
   "execution_count": null,
   "metadata": {},
   "outputs": [],
   "source": [
    "analyze <- function(filename) {\n",
    "  # Plots the average, min, and max inflammation over time.\n",
    "  # Input is character string of a csv file.\n",
    "  dat <- read.csv(file = filename, header = FALSE)\n",
    "  avg_day_inflammation <- apply(dat, 2, mean)\n",
    "  plot(avg_day_inflammation)\n",
    "  max_day_inflammation <- apply(dat, 2, max)\n",
    "  plot(max_day_inflammation)\n",
    "  min_day_inflammation <- apply(dat, 2, min)\n",
    "  plot(min_day_inflammation)\n",
    "}"
   ]
  },
  {
   "cell_type": "code",
   "execution_count": null,
   "metadata": {},
   "outputs": [],
   "source": [
    "analyze_all <- function(folder = \"data\", pattern) {\n",
    "  # Runs the function analyze for each file in the given folder\n",
    "  # that contains the given pattern.\n",
    "  filenames <- list.files(path = folder, pattern = pattern, full.names = TRUE)\n",
    "  for (f in filenames) {\n",
    "    analyze(f)\n",
    "  }\n",
    "}"
   ]
  },
  {
   "cell_type": "code",
   "execution_count": null,
   "metadata": {},
   "outputs": [],
   "source": [
    "pdf(\"inflammation-01.pdf\")\n",
    "analyze(\"data/inflammation-01.csv\")\n",
    "dev.off()"
   ]
  },
  {
   "cell_type": "markdown",
   "metadata": {},
   "source": [
    "### Conditionals"
   ]
  },
  {
   "cell_type": "code",
   "execution_count": null,
   "metadata": {},
   "outputs": [],
   "source": [
    "num = 37\n",
    "num > 100"
   ]
  },
  {
   "cell_type": "code",
   "execution_count": null,
   "metadata": {},
   "outputs": [],
   "source": [
    "num < 100"
   ]
  },
  {
   "cell_type": "code",
   "execution_count": null,
   "metadata": {},
   "outputs": [],
   "source": [
    "num = 37\n",
    "if (num > 100) {\n",
    "    print('greater')\n",
    "} else {\n",
    "    print('not greater')\n",
    "}\n",
    "print('done')"
   ]
  },
  {
   "cell_type": "code",
   "execution_count": null,
   "metadata": {},
   "outputs": [],
   "source": [
    "num > 100"
   ]
  },
  {
   "cell_type": "code",
   "execution_count": null,
   "metadata": {},
   "outputs": [],
   "source": [
    "num < 100"
   ]
  },
  {
   "cell_type": "code",
   "execution_count": null,
   "metadata": {},
   "outputs": [],
   "source": [
    "num <= 53\n",
    "if (num > 100) {\n",
    "    print('num is greater than 100')\n",
    "}"
   ]
  },
  {
   "cell_type": "markdown",
   "metadata": {},
   "source": [
    "---"
   ]
  },
  {
   "cell_type": "code",
   "execution_count": null,
   "metadata": {},
   "outputs": [],
   "source": [
    "sign = function(num) {\n",
    "    if (num > 0) {\n",
    "        return(1)\n",
    "    } else if (num == 0) {\n",
    "        return(0)\n",
    "    } else {\n",
    "        return(-1)\n",
    "    }\n",
    "}\n",
    "sign(-3)"
   ]
  },
  {
   "cell_type": "code",
   "execution_count": null,
   "metadata": {},
   "outputs": [],
   "source": [
    "sign(0)"
   ]
  },
  {
   "cell_type": "code",
   "execution_count": null,
   "metadata": {},
   "outputs": [],
   "source": [
    "sign(2/3)"
   ]
  },
  {
   "cell_type": "markdown",
   "metadata": {},
   "source": [
    "We can also combine tests. Two ampersands, `&&`, symbolize “and”. Two vertical bars, `||`, symbolize “or”. `&&` is only true if both parts are true:"
   ]
  },
  {
   "cell_type": "code",
   "execution_count": null,
   "metadata": {},
   "outputs": [],
   "source": [
    "if (1 > 0 && -1 > 0) {\n",
    "    print('both parts are true')\n",
    "} else {\n",
    "    print('at least one part is not true')\n",
    "}"
   ]
  },
  {
   "cell_type": "markdown",
   "metadata": {},
   "source": [
    "while `||` is true if either part is true:"
   ]
  },
  {
   "cell_type": "code",
   "execution_count": null,
   "metadata": {},
   "outputs": [],
   "source": [
    "if (1 > 0 || -1 > 0) {\n",
    "    print('at least one part is true')\n",
    "} else {\n",
    "    print('neither part is true')\n",
    "}"
   ]
  },
  {
   "cell_type": "markdown",
   "metadata": {},
   "source": [
    "## Choosing Plots Based on Data"
   ]
  },
  {
   "cell_type": "markdown",
   "metadata": {},
   "source": [
    "Write a function `plot_dist` that plots a boxplot if the length of the vector is greater than a specified threshold and a stripchart otherwise. To do this you’ll use the R functions `boxplot` and `stripchart`."
   ]
  },
  {
   "cell_type": "code",
   "execution_count": null,
   "metadata": {},
   "outputs": [],
   "source": [
    "plot_dist = function(x, threshold) {\n",
    "    if (length(x) > threshold) {\n",
    "        boxplot(x)\n",
    "    } else {\n",
    "        stripchart(x)\n",
    "    }\n",
    "}"
   ]
  },
  {
   "cell_type": "code",
   "execution_count": null,
   "metadata": {},
   "outputs": [],
   "source": [
    "df = read.csv('data/inflammation-01.csv', header= FALSE)\n",
    "plot_dist(x = df[, 10], threshold = 10)"
   ]
  },
  {
   "cell_type": "markdown",
   "metadata": {},
   "source": [
    "## Histograms Instead"
   ]
  },
  {
   "cell_type": "markdown",
   "metadata": {},
   "source": [
    "One of your collaborators prefers to see the distributions of the larger vectors as a histogram instead of as a boxplot. In order to choose between a histogram and a boxplot we will edit the function `plot_dist` and add an additional argument `use_boxplot`. By default we will set `use_boxplot` to `TRUE` which will create a boxplot when the vector is longer than `threshold`. When `use_boxplot` is set to `FALSE`, `plot_dist` will instead plot a histogram for the larger vectors. As before, if the length of the vector is shorter than `threshold`, `plot_dist` will create a stripchart. A histogram is made with the `hist` command in R."
   ]
  },
  {
   "cell_type": "code",
   "execution_count": null,
   "metadata": {},
   "outputs": [],
   "source": [
    "plot_dist = function(x, threshold, use_boxplot = TRUE) {\n",
    "    if (length(x) > threshold && use_boxplot) {\n",
    "        boxplot(x)\n",
    "    } else if (length(x) > threshold && !use_boxplot) {\n",
    "        hist(x)\n",
    "    } else {\n",
    "        stripchart(x)\n",
    "    }\n",
    "}"
   ]
  },
  {
   "cell_type": "code",
   "execution_count": null,
   "metadata": {},
   "outputs": [],
   "source": [
    "df <- read.csv(\"data/inflammation-01.csv\", header = FALSE)\n",
    "plot_dist(df[, 10], threshold = 10, use_boxplot = TRUE)"
   ]
  },
  {
   "cell_type": "markdown",
   "metadata": {},
   "source": [
    "## Find the Maximum Score"
   ]
  },
  {
   "cell_type": "markdown",
   "metadata": {},
   "source": [
    "Find the file containing the patient with the highest average inflammation score. Print the file name, the patient number (row number) and the value of the maximum average inflammation score.\n",
    "\n",
    "Tips:\n",
    "\n",
    "    Use variables to store the maximum average and update it as you go through files and patients.\n",
    "    You can use nested loops (one loop is inside the other) to go through the files as well as through the patients in each file (every row).\n",
    "\n",
    "Complete the code below:"
   ]
  },
  {
   "cell_type": "code",
   "execution_count": null,
   "metadata": {},
   "outputs": [],
   "source": [
    "filenames <- list.files(path = \"data\", pattern = \"inflammation-[0-9]{2}.csv\", full.names = TRUE)\n",
    "filename_max <- \"\" # filename where the maximum average inflammation patient is found\n",
    "patient_max <- 0 # index (row number) for this patient in this file\n",
    "average_inf_max <- 0 # value of the average inflammation score for this patient\n",
    "for (f in filenames) {\n",
    "  dat <- read.csv(file = f, header = FALSE)\n",
    "  dat.means <- apply(dat, 1, mean)\n",
    "  for (patient_index in 1:length(dat.means)){\n",
    "    patient_average_inf <- dat.means[patient_index]\n",
    "    # Add your code here ...\n",
    "    if (patient_average_inf > average_inf_max) {\n",
    "        average_inf_max <- patient_average_inf\n",
    "        filename_max <- f\n",
    "        patient_max <- patient_index\n",
    "    }\n",
    "  }\n",
    "}\n",
    "print(filename_max)\n",
    "print(patient_max)\n",
    "print(average_inf_max)"
   ]
  },
  {
   "cell_type": "markdown",
   "metadata": {},
   "source": [
    "---"
   ]
  },
  {
   "cell_type": "markdown",
   "metadata": {},
   "source": [
    "## Saving Automatically Generated Figures "
   ]
  },
  {
   "cell_type": "markdown",
   "metadata": {},
   "source": [
    "Now that we know how to have R make decisions based on input values, let’s update `analyze`:"
   ]
  },
  {
   "cell_type": "code",
   "execution_count": null,
   "metadata": {},
   "outputs": [],
   "source": [
    "analyze <- function(filename, output = NULL) {\n",
    "  # Plots the average, min, and max inflammation over time.\n",
    "  # Input:\n",
    "  #    filename: character string of a csv file\n",
    "  #    output: character string of pdf file for saving\n",
    "  if (!is.null(output)) {\n",
    "    pdf(output)\n",
    "  }\n",
    "  dat <- read.csv(file = filename, header = FALSE)\n",
    "  avg_day_inflammation <- apply(dat, 2, mean)\n",
    "  plot(avg_day_inflammation)\n",
    "  max_day_inflammation <- apply(dat, 2, max)\n",
    "  plot(max_day_inflammation)\n",
    "  min_day_inflammation <- apply(dat, 2, min)\n",
    "  plot(min_day_inflammation)\n",
    "  if (!is.null(output)) {\n",
    "    dev.off()\n",
    "  }\n",
    "}"
   ]
  },
  {
   "cell_type": "code",
   "execution_count": null,
   "metadata": {},
   "outputs": [],
   "source": [
    "output <- NULL\n",
    "is.null(output)"
   ]
  },
  {
   "cell_type": "code",
   "execution_count": null,
   "metadata": {},
   "outputs": [],
   "source": [
    "!is.null(output)"
   ]
  },
  {
   "cell_type": "code",
   "execution_count": null,
   "metadata": {},
   "outputs": [],
   "source": [
    "analyze(\"data/inflammation-01.csv\")"
   ]
  },
  {
   "cell_type": "code",
   "execution_count": null,
   "metadata": {},
   "outputs": [],
   "source": [
    "analyze(\"data/inflammation-01.csv\", output = \"inflammation-01.pdf\")"
   ]
  },
  {
   "cell_type": "code",
   "execution_count": null,
   "metadata": {},
   "outputs": [],
   "source": [
    "dir.create(\"results\")"
   ]
  },
  {
   "cell_type": "code",
   "execution_count": null,
   "metadata": {},
   "outputs": [],
   "source": [
    "analyze(\"data/inflammation-01.csv\", output = \"results/inflammation-01.pdf\")"
   ]
  },
  {
   "cell_type": "code",
   "execution_count": null,
   "metadata": {},
   "outputs": [],
   "source": [
    "f <- \"inflammation-01.csv\"\n",
    "sub(\"csv\", \"pdf\", f)"
   ]
  },
  {
   "cell_type": "code",
   "execution_count": null,
   "metadata": {},
   "outputs": [],
   "source": [
    "file.path(\"results\", sub(\"csv\", \"pdf\", f))"
   ]
  },
  {
   "cell_type": "markdown",
   "metadata": {},
   "source": [
    "## Let's update analyze_all"
   ]
  },
  {
   "cell_type": "code",
   "execution_count": null,
   "metadata": {},
   "outputs": [],
   "source": [
    "analyze_all <- function(pattern) {\n",
    "  # Directory name containing the data\n",
    "  data_dir <- \"data\"\n",
    "  # Directory name for results\n",
    "  results_dir <- \"results\"\n",
    "  # Runs the function analyze for each file in the current working directory\n",
    "  # that contains the given pattern.\n",
    "  filenames <- list.files(path = data_dir, pattern = pattern)\n",
    "  for (f in filenames) {\n",
    "    pdf_name <- file.path(results_dir, sub(\"csv\", \"pdf\", f))\n",
    "    analyze(file.path(data_dir, f), output = pdf_name)\n",
    "  }\n",
    "}"
   ]
  },
  {
   "cell_type": "markdown",
   "metadata": {},
   "source": [
    "## Saved with one line of code"
   ]
  },
  {
   "cell_type": "code",
   "execution_count": null,
   "metadata": {},
   "outputs": [],
   "source": [
    "analyze_all(\"inflammation.*csv\")"
   ]
  },
  {
   "cell_type": "code",
   "execution_count": null,
   "metadata": {},
   "outputs": [],
   "source": [
    "# Pull up documentation\n",
    "?plot"
   ]
  },
  {
   "cell_type": "markdown",
   "metadata": {},
   "source": [
    "One of your collaborators asks if you can recreate the figures with lines instead of points. Find the relevant argument to plot by reading the documentation (?plot), update analyze, and then recreate all the figures with analyze_all."
   ]
  },
  {
   "cell_type": "code",
   "execution_count": null,
   "metadata": {},
   "outputs": [],
   "source": [
    "analyze <- function(filename, output = NULL) {\n",
    "  # Plots the average, min, and max inflammation over time.\n",
    "  # Input:\n",
    "  #    filename: character string of a csv file\n",
    "  #    output: character string of pdf file for saving\n",
    "  if (!is.null(output)) {\n",
    "    pdf(output)\n",
    "  }\n",
    "  dat <- read.csv(file = filename, header = FALSE)\n",
    "  avg_day_inflammation <- apply(dat, 2, mean)\n",
    "  plot(avg_day_inflammation, type = \"l\")\n",
    "  max_day_inflammation <- apply(dat, 2, max)\n",
    "  plot(max_day_inflammation, type = \"l\")\n",
    "  min_day_inflammation <- apply(dat, 2, min)\n",
    "  plot(min_day_inflammation, type = \"l\")\n",
    "  if (!is.null(output)) {\n",
    "    dev.off()\n",
    "  }\n",
    "}"
   ]
  },
  {
   "cell_type": "code",
   "execution_count": null,
   "metadata": {},
   "outputs": [],
   "source": [
    "analyze_all(\"inflammation.*csv\")"
   ]
  },
  {
   "cell_type": "markdown",
   "metadata": {},
   "source": [
    "---"
   ]
  }
 ],
 "metadata": {
  "kernelspec": {
   "display_name": "R",
   "language": "R",
   "name": "ir"
  },
  "language_info": {
   "codemirror_mode": "r",
   "file_extension": ".r",
   "mimetype": "text/x-r-source",
   "name": "R",
   "pygments_lexer": "r",
   "version": "3.6.2"
  }
 },
 "nbformat": 4,
 "nbformat_minor": 4
}
