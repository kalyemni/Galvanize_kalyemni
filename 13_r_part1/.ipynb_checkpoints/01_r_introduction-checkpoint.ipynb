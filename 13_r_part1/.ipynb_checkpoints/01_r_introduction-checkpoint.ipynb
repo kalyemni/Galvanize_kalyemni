{
 "cells": [
  {
   "cell_type": "markdown",
   "metadata": {},
   "source": [
    "### R Fundamentals: Lesson 1"
   ]
  },
  {
   "cell_type": "code",
   "execution_count": null,
   "metadata": {},
   "outputs": [],
   "source": [
    "weight_kg = 55\n",
    "weight_lb = 2.2 * weight_kg\n",
    "weight_lb"
   ]
  },
  {
   "cell_type": "code",
   "execution_count": null,
   "metadata": {},
   "outputs": [],
   "source": [
    "df = read.csv(file = 'data/inflammation-01.csv', header= TRUE)"
   ]
  },
  {
   "cell_type": "code",
   "execution_count": null,
   "metadata": {},
   "outputs": [],
   "source": [
    "head(df)"
   ]
  },
  {
   "cell_type": "code",
   "execution_count": null,
   "metadata": {},
   "outputs": [],
   "source": [
    "class(df)\n",
    "dim(df)"
   ]
  },
  {
   "cell_type": "code",
   "execution_count": null,
   "metadata": {},
   "outputs": [],
   "source": [
    "df[1, 1]"
   ]
  },
  {
   "cell_type": "code",
   "execution_count": null,
   "metadata": {},
   "outputs": [],
   "source": [
    "df[c(1, 3, 5), c(10, 20)]"
   ]
  },
  {
   "cell_type": "code",
   "execution_count": null,
   "metadata": {},
   "outputs": [],
   "source": [
    "1:5"
   ]
  },
  {
   "cell_type": "code",
   "execution_count": null,
   "metadata": {},
   "outputs": [],
   "source": [
    "df[1:4, 1:10]"
   ]
  },
  {
   "cell_type": "code",
   "execution_count": null,
   "metadata": {},
   "outputs": [],
   "source": [
    "df[5,]"
   ]
  },
  {
   "cell_type": "code",
   "execution_count": null,
   "metadata": {},
   "outputs": [],
   "source": [
    "max(df[2, ])\n",
    "min(df[, 7])\n",
    "mean(df[, 7])\n",
    "median(df[, 7])\n",
    "sd(df[, 7])"
   ]
  },
  {
   "cell_type": "code",
   "execution_count": null,
   "metadata": {},
   "outputs": [],
   "source": []
  },
  {
   "cell_type": "code",
   "execution_count": null,
   "metadata": {},
   "outputs": [],
   "source": [
    "summary(df[, 1:4])"
   ]
  },
  {
   "cell_type": "code",
   "execution_count": null,
   "metadata": {},
   "outputs": [],
   "source": [
    "avg_patient_inflammation = apply(df, 1, mean)\n",
    "avg_day_inflammation = apply(df, 2, mean)\n",
    "head(avg_patient_inflammation)"
   ]
  },
  {
   "cell_type": "code",
   "execution_count": null,
   "metadata": {},
   "outputs": [],
   "source": [
    "plot(avg_day_inflammation)"
   ]
  },
  {
   "cell_type": "code",
   "execution_count": null,
   "metadata": {},
   "outputs": [],
   "source": [
    "max_day_inflammation = apply(df, 2, max)\n",
    "# min_day_inflammation = apply(df, 2, min)\n",
    "plot(max_day_inflammation)"
   ]
  },
  {
   "cell_type": "markdown",
   "metadata": {},
   "source": [
    "### Creating Functions"
   ]
  },
  {
   "cell_type": "code",
   "execution_count": null,
   "metadata": {},
   "outputs": [],
   "source": [
    "fahrenheit_to_celsius = function(temp_F) {\n",
    "    temp_C = (temp_F - 32) * 5/9\n",
    "    return(temp_C)\n",
    "}"
   ]
  },
  {
   "cell_type": "code",
   "execution_count": null,
   "metadata": {},
   "outputs": [],
   "source": [
    "fahrenheit_to_celsius(32)"
   ]
  },
  {
   "cell_type": "code",
   "execution_count": null,
   "metadata": {},
   "outputs": [],
   "source": [
    "celsius_to_kelvin = function(temp_C) {\n",
    "    temp_K = temp_C + 273.15\n",
    "    return(temp_K)\n",
    "}"
   ]
  },
  {
   "cell_type": "code",
   "execution_count": null,
   "metadata": {},
   "outputs": [],
   "source": [
    "celsius_to_kelvin(0)"
   ]
  },
  {
   "cell_type": "code",
   "execution_count": null,
   "metadata": {},
   "outputs": [],
   "source": [
    "fahrenheit_to_kelvin = function(temp_F) {\n",
    "    temp_C = fahrenheit_to_celsius(temp_F)\n",
    "    temp_K = celsius_to_kelvin(temp_C)\n",
    "    return(temp_K)\n",
    "}\n",
    "fahrenheit_to_kelvin(32.0)"
   ]
  },
  {
   "cell_type": "markdown",
   "metadata": {},
   "source": [
    "### Nesting Functions"
   ]
  },
  {
   "cell_type": "code",
   "execution_count": null,
   "metadata": {},
   "outputs": [],
   "source": [
    "celsius_to_kelvin(fahrenheit_to_celsius(32.0))"
   ]
  },
  {
   "cell_type": "code",
   "execution_count": null,
   "metadata": {},
   "outputs": [],
   "source": [
    "highlight = function(content, wrapper) {\n",
    "  answer = c(wrapper, content, wrapper)\n",
    "  return(answer)\n",
    "}\n",
    "\n",
    "best_practice = c(\"Write\", \"programs\", \"for\", \"people\", \"not\", \"computers\")\n",
    "asterisk = \"***\"  # R interprets a variable with a single value as a vector\n",
    "                   # with one element.\n",
    "highlight(best_practice, asterisk)"
   ]
  },
  {
   "cell_type": "code",
   "execution_count": null,
   "metadata": {},
   "outputs": [],
   "source": [
    "edges = function(v) {\n",
    "  first = v[1]\n",
    "   last = v[length(v)]\n",
    "   answer = c(first, last)\n",
    "   return(answer)\n",
    "}\n",
    "\n",
    "dry_principle = c(\"Don't\", \"repeat\", \"yourself\", \"or\", \"others\")\n",
    "edges(dry_principle)"
   ]
  },
  {
   "cell_type": "markdown",
   "metadata": {},
   "source": [
    "### Name and Variable Scoping"
   ]
  },
  {
   "cell_type": "code",
   "execution_count": null,
   "metadata": {},
   "outputs": [],
   "source": [
    "input_1 = 20\n",
    "mySum = function(input_1, input_2 = 10) {\n",
    "    output = input_1 + input_2\n",
    "    return(output)\n",
    "}\n",
    "\n",
    "mySum(input_1 = 1, input_2 = 3)"
   ]
  },
  {
   "cell_type": "markdown",
   "metadata": {},
   "source": [
    "### Testing and Documentation"
   ]
  },
  {
   "cell_type": "code",
   "execution_count": null,
   "metadata": {},
   "outputs": [],
   "source": [
    "center = function(data, midpoint) {\n",
    "    new_data = (data - mean(data)) + midpoint\n",
    "    return(new_data)\n",
    "}"
   ]
  },
  {
   "cell_type": "code",
   "execution_count": null,
   "metadata": {},
   "outputs": [],
   "source": [
    "z = c(0, 0, 0, 0)\n",
    "center(z, 3)"
   ]
  },
  {
   "cell_type": "code",
   "execution_count": null,
   "metadata": {},
   "outputs": [],
   "source": [
    "df = read.csv(file = 'data/inflammation-01.csv', header=FALSE)\n",
    "centered = center(df[, 4], 0)\n",
    "head(centered)"
   ]
  },
  {
   "cell_type": "markdown",
   "metadata": {},
   "source": [
    "#### Comparisons"
   ]
  },
  {
   "cell_type": "code",
   "execution_count": null,
   "metadata": {},
   "outputs": [],
   "source": [
    "cat('Min is:', min(df[, 4]), '\\n')\n",
    "cat('Mean is:', mean(df[, 4]), '\\n')\n",
    "cat('Max is:', max(df[, 4]), '\\n')\n",
    "cat('SD is:', sd(df[, 4]), '\\n')\n",
    "# SD Comparison\n",
    "cat('SD Difference is:', sd(df[, 4]) - sd(centered), '\\n')"
   ]
  },
  {
   "cell_type": "markdown",
   "metadata": {},
   "source": [
    "#### Compare two objects with rounding errors"
   ]
  },
  {
   "cell_type": "code",
   "execution_count": null,
   "metadata": {},
   "outputs": [],
   "source": [
    "all.equal(sd(df[, 4]), sd(centered))"
   ]
  },
  {
   "cell_type": "code",
   "execution_count": null,
   "metadata": {},
   "outputs": [],
   "source": [
    "center = function(data, midpoint) {\n",
    "    # return a new vector containing the original data centered around the midpoint\n",
    "    # Example: center(c(1, 2, 3), 0) => c(-1, 0, 1)\n",
    "    new_data = (data - mean(data)) + midpoint\n",
    "    return(new_data)\n",
    "}"
   ]
  },
  {
   "cell_type": "markdown",
   "metadata": {},
   "source": [
    "### Practice Problem"
   ]
  },
  {
   "cell_type": "markdown",
   "metadata": {},
   "source": [
    "---"
   ]
  },
  {
   "cell_type": "markdown",
   "metadata": {},
   "source": [
    "Write a function `rescale` that takes a vector as input and returns a corresponding vector of values scaled to lie in the range 0 to 1. (If `L` and `H` are the lowest and highest values in the original vector, then the replacement for a value `v` should be `(v-L) / (H-L)`.) Be sure to document your function with comments.\n",
    "\n",
    "Test that your `rescale` function is working properly using `min`, `max`, and `plot`."
   ]
  },
  {
   "cell_type": "markdown",
   "metadata": {},
   "source": [
    "### Defining Defaults"
   ]
  },
  {
   "cell_type": "markdown",
   "metadata": {},
   "source": [
    "---"
   ]
  },
  {
   "cell_type": "code",
   "execution_count": null,
   "metadata": {},
   "outputs": [],
   "source": [
    "df = read.csv(file = 'data/inflammation-01.csv', header = FALSE)"
   ]
  },
  {
   "cell_type": "code",
   "execution_count": null,
   "metadata": {},
   "outputs": [],
   "source": [
    "# or "
   ]
  },
  {
   "cell_type": "code",
   "execution_count": null,
   "metadata": {},
   "outputs": [],
   "source": [
    "df = read.csv(header = FALSE, file = 'data/inflammation-01.csv')"
   ]
  },
  {
   "cell_type": "markdown",
   "metadata": {},
   "source": [
    "#### Argument Matching"
   ]
  },
  {
   "cell_type": "code",
   "execution_count": null,
   "metadata": {},
   "outputs": [],
   "source": [
    "display = function(a = 1, b = 2, c = 3) {\n",
    "    result = c(a, b, c)\n",
    "    names(result) = c('a', 'b', 'c')\n",
    "    return(result)\n",
    "}\n",
    "\n",
    "display()"
   ]
  },
  {
   "cell_type": "code",
   "execution_count": null,
   "metadata": {},
   "outputs": [],
   "source": [
    "cat(display(55), '\\n')\n",
    "cat(display(55, 66), '\\n')\n",
    "cat(display(55, 66, 77), '\\n')\n",
    "cat(display(c=77), '\\n')"
   ]
  },
  {
   "cell_type": "markdown",
   "metadata": {},
   "source": [
    "#### Help Functions"
   ]
  },
  {
   "cell_type": "code",
   "execution_count": null,
   "metadata": {},
   "outputs": [],
   "source": [
    "#?read.csv"
   ]
  },
  {
   "cell_type": "markdown",
   "metadata": {},
   "source": [
    "## Analyzing Multiple Datasets"
   ]
  },
  {
   "cell_type": "code",
   "execution_count": null,
   "metadata": {},
   "outputs": [],
   "source": [
    "analyze = function(filename) {\n",
    "    df = read.csv(file = filename, header = FALSE)\n",
    "    avg_day_inflammation = apply(df, 2, mean)\n",
    "    plot(avg_day_inflammation)\n",
    "    max_day_information = apply(df, 2, max)\n",
    "    plot(max_day_information)\n",
    "    min_day_inflammation = apply(df, 2, min)\n",
    "    plot(min_day_inflammation)\n",
    "}\n",
    "#analyze('data/inflammation-01.csv')\n",
    "analyze('data/inflammation-02.csv')"
   ]
  },
  {
   "cell_type": "markdown",
   "metadata": {},
   "source": [
    "### For Loops"
   ]
  },
  {
   "cell_type": "code",
   "execution_count": null,
   "metadata": {},
   "outputs": [],
   "source": [
    "best_practice = c('Let', 'the', 'computer', 'do', 'the', 'work')\n",
    "print_words = function(sentence) {\n",
    "    print(sentence[1])\n",
    "    print(sentence[2])\n",
    "    print(sentence[3])\n",
    "    print(sentence[4])\n",
    "    print(sentence[5])\n",
    "    print(sentence[6])\n",
    "}\n",
    "print_words(best_practice)"
   ]
  },
  {
   "cell_type": "code",
   "execution_count": null,
   "metadata": {},
   "outputs": [],
   "source": [
    "#?NA # Not Available / Missing Values"
   ]
  },
  {
   "cell_type": "code",
   "execution_count": null,
   "metadata": {},
   "outputs": [],
   "source": [
    "print_words = function(sentence) {\n",
    "    for (word in sentence) {\n",
    "        print(word)\n",
    "    }\n",
    "}\n",
    "cat(print_words(best_practice))"
   ]
  },
  {
   "cell_type": "markdown",
   "metadata": {},
   "source": [
    "### Loop updates"
   ]
  },
  {
   "cell_type": "code",
   "execution_count": null,
   "metadata": {},
   "outputs": [],
   "source": [
    "len = 0\n",
    "vowels = c('a', 'e', 'i', 'o', 'u')\n",
    "for (v in vowels) {\n",
    "    len = len + 1\n",
    "}\n",
    "len"
   ]
  },
  {
   "cell_type": "code",
   "execution_count": null,
   "metadata": {},
   "outputs": [],
   "source": [
    "letter = 'z'\n",
    "for (letter in c('a', 'b', 'c')) {\n",
    "    print(letter)\n",
    "}"
   ]
  },
  {
   "cell_type": "code",
   "execution_count": null,
   "metadata": {},
   "outputs": [],
   "source": [
    "letter"
   ]
  },
  {
   "cell_type": "code",
   "execution_count": null,
   "metadata": {},
   "outputs": [],
   "source": [
    "length(vowels)"
   ]
  },
  {
   "cell_type": "code",
   "execution_count": null,
   "metadata": {},
   "outputs": [],
   "source": [
    "seq(3)"
   ]
  },
  {
   "cell_type": "code",
   "execution_count": null,
   "metadata": {},
   "outputs": [],
   "source": [
    "print_N = function(N) {\n",
    "    nseq = seq(N)\n",
    "    for (num in nseq) {\n",
    "        print(num)\n",
    "    }\n",
    "}\n",
    "print_N(5)"
   ]
  },
  {
   "cell_type": "code",
   "execution_count": null,
   "metadata": {},
   "outputs": [],
   "source": [
    "total = function(vec) {\n",
    "    vec_sum = 0\n",
    "    for (num in vec) {\n",
    "        vec_sum = vec_sum + num\n",
    "    }\n",
    "    return(vec_sum)\n",
    "}\n",
    "total(c(4, 8, 15, 16, 23, 42))"
   ]
  },
  {
   "cell_type": "markdown",
   "metadata": {},
   "source": [
    "### Exponentiation"
   ]
  },
  {
   "cell_type": "code",
   "execution_count": null,
   "metadata": {},
   "outputs": [],
   "source": [
    "expo = function(base, power) {\n",
    "    result = 1\n",
    "    for (i in seq(power)) {\n",
    "        result = result * base\n",
    "    }\n",
    "    return(result)\n",
    "}\n",
    "expo(2, 4)"
   ]
  },
  {
   "cell_type": "markdown",
   "metadata": {},
   "source": [
    "### Processing Multiple Files"
   ]
  },
  {
   "cell_type": "code",
   "execution_count": null,
   "metadata": {},
   "outputs": [],
   "source": [
    "list.files(path = 'data', pattern= 'csv')"
   ]
  },
  {
   "cell_type": "code",
   "execution_count": null,
   "metadata": {},
   "outputs": [],
   "source": [
    "list.files(path = 'data', pattern= 'inflammation')"
   ]
  },
  {
   "cell_type": "code",
   "execution_count": null,
   "metadata": {},
   "outputs": [],
   "source": [
    "list.files(path = \"data\", pattern = \"csv\", full.names = TRUE)"
   ]
  },
  {
   "cell_type": "code",
   "execution_count": null,
   "metadata": {},
   "outputs": [],
   "source": [
    "list.files(path = \"data\", pattern = \"inflammation\", full.names = TRUE)"
   ]
  },
  {
   "cell_type": "code",
   "execution_count": null,
   "metadata": {},
   "outputs": [],
   "source": [
    "filenames = list.files(path = \"data\", pattern = \"inflammation-[0-9]{2}.csv\", full.names = TRUE)\n",
    "\n",
    "filenames = filenames[1:3]\n",
    "for (f in filenames) {\n",
    "  print(f)\n",
    "  analyze(f)\n",
    "}"
   ]
  },
  {
   "cell_type": "markdown",
   "metadata": {},
   "source": [
    "**References**:\n",
    "- [Software Carpentry - Programming with R](http://swcarpentry.github.io/r-novice-inflammation/)"
   ]
  },
  {
   "cell_type": "markdown",
   "metadata": {},
   "source": [
    "---"
   ]
  }
 ],
 "metadata": {
  "kernelspec": {
   "display_name": "R",
   "language": "R",
   "name": "ir"
  },
  "language_info": {
   "codemirror_mode": "r",
   "file_extension": ".r",
   "mimetype": "text/x-r-source",
   "name": "R",
   "pygments_lexer": "r",
   "version": "3.6.2"
  }
 },
 "nbformat": 4,
 "nbformat_minor": 4
}
