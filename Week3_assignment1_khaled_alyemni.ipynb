{
 "cells": [
  {
   "cell_type": "code",
   "execution_count": 1,
   "metadata": {},
   "outputs": [
    {
     "name": "stdout",
     "output_type": "stream",
     "text": [
      "total cores:  8\n"
     ]
    }
   ],
   "source": [
    "from multiprocessing import Pool, cpu_count\n",
    "total_cores = cpu_count()\n",
    "print('total cores: ', total_cores)"
   ]
  },
  {
   "cell_type": "code",
   "execution_count": 2,
   "metadata": {},
   "outputs": [
    {
     "name": "stdout",
     "output_type": "stream",
     "text": [
      "16.9 ms ± 122 µs per loop (mean ± std. dev. of 7 runs, 100 loops each)\n"
     ]
    }
   ],
   "source": [
    "import numpy as np\n",
    "def special_squares(n):\n",
    "    v = np.arange(n)\n",
    "    return v[v%2==0]**2\n",
    "n = 1000000\n",
    "%timeit special_squares(n)"
   ]
  },
  {
   "cell_type": "code",
   "execution_count": 3,
   "metadata": {},
   "outputs": [],
   "source": [
    "import math\n",
    "def loop1(n):\n",
    "    \"\"\"Using for loop with function call.\"\"\"\n",
    "    z = []\n",
    "    for i in range(n):\n",
    "        z.append(math.sin(i))\n",
    "    return z\n",
    "\n",
    "def loop2(n):\n",
    "    \"\"\"Using local version of function.\"\"\"\n",
    "    z = []\n",
    "    sin = math.sin\n",
    "    for i in range(n):\n",
    "        z.append(sin(i))\n",
    "    return z\n",
    "\n",
    "def loop3(n):\n",
    "    \"\"\"Using list comprehension.\"\"\"\n",
    "    sin = math.sin\n",
    "    return [sin(i) for i in range(n)]\n",
    "\n",
    "def loop4(n):\n",
    "    \"\"\"Using map.\"\"\"\n",
    "    sin = math.sin\n",
    "    return list(map(sin, range(n)))\n",
    "\n",
    "def loop5(n):\n",
    "    \"\"\"Using numpy.\"\"\"\n",
    "    return np.sin(np.arange(n)).tolist()\n"
   ]
  },
  {
   "cell_type": "code",
   "execution_count": 4,
   "metadata": {},
   "outputs": [
    {
     "data": {
      "text/html": [
       "<div>\n",
       "<style scoped>\n",
       "    .dataframe tbody tr th:only-of-type {\n",
       "        vertical-align: middle;\n",
       "    }\n",
       "\n",
       "    .dataframe tbody tr th {\n",
       "        vertical-align: top;\n",
       "    }\n",
       "\n",
       "    .dataframe thead th {\n",
       "        text-align: right;\n",
       "    }\n",
       "</style>\n",
       "<table border=\"1\" class=\"dataframe\">\n",
       "  <thead>\n",
       "    <tr style=\"text-align: right;\">\n",
       "      <th></th>\n",
       "      <th>Loop1</th>\n",
       "      <th>Loop2</th>\n",
       "      <th>Loop3</th>\n",
       "      <th>Loop4</th>\n",
       "      <th>Loop5</th>\n",
       "    </tr>\n",
       "  </thead>\n",
       "  <tbody>\n",
       "    <tr>\n",
       "      <td>0</td>\n",
       "      <td>0.000003</td>\n",
       "      <td>1.907349e-06</td>\n",
       "      <td>0.000002</td>\n",
       "      <td>1.907349e-06</td>\n",
       "      <td>0.000013</td>\n",
       "    </tr>\n",
       "    <tr>\n",
       "      <td>1</td>\n",
       "      <td>0.000004</td>\n",
       "      <td>7.152557e-07</td>\n",
       "      <td>0.000002</td>\n",
       "      <td>1.907349e-06</td>\n",
       "      <td>0.000008</td>\n",
       "    </tr>\n",
       "    <tr>\n",
       "      <td>2</td>\n",
       "      <td>0.000003</td>\n",
       "      <td>9.536743e-07</td>\n",
       "      <td>0.000002</td>\n",
       "      <td>1.907349e-06</td>\n",
       "      <td>0.000006</td>\n",
       "    </tr>\n",
       "    <tr>\n",
       "      <td>3</td>\n",
       "      <td>0.000003</td>\n",
       "      <td>2.145767e-06</td>\n",
       "      <td>0.000002</td>\n",
       "      <td>2.145767e-06</td>\n",
       "      <td>0.000006</td>\n",
       "    </tr>\n",
       "    <tr>\n",
       "      <td>4</td>\n",
       "      <td>0.000004</td>\n",
       "      <td>9.536743e-07</td>\n",
       "      <td>0.000002</td>\n",
       "      <td>9.536743e-07</td>\n",
       "      <td>0.000007</td>\n",
       "    </tr>\n",
       "    <tr>\n",
       "      <td>...</td>\n",
       "      <td>...</td>\n",
       "      <td>...</td>\n",
       "      <td>...</td>\n",
       "      <td>...</td>\n",
       "      <td>...</td>\n",
       "    </tr>\n",
       "    <tr>\n",
       "      <td>9995</td>\n",
       "      <td>0.001803</td>\n",
       "      <td>1.389980e-03</td>\n",
       "      <td>0.001022</td>\n",
       "      <td>8.578300e-04</td>\n",
       "      <td>0.000311</td>\n",
       "    </tr>\n",
       "    <tr>\n",
       "      <td>9996</td>\n",
       "      <td>0.001795</td>\n",
       "      <td>1.399755e-03</td>\n",
       "      <td>0.001044</td>\n",
       "      <td>8.492470e-04</td>\n",
       "      <td>0.000311</td>\n",
       "    </tr>\n",
       "    <tr>\n",
       "      <td>9997</td>\n",
       "      <td>0.001796</td>\n",
       "      <td>1.389027e-03</td>\n",
       "      <td>0.001019</td>\n",
       "      <td>8.251667e-04</td>\n",
       "      <td>0.000310</td>\n",
       "    </tr>\n",
       "    <tr>\n",
       "      <td>9998</td>\n",
       "      <td>0.001878</td>\n",
       "      <td>1.464128e-03</td>\n",
       "      <td>0.001021</td>\n",
       "      <td>8.251667e-04</td>\n",
       "      <td>0.000311</td>\n",
       "    </tr>\n",
       "    <tr>\n",
       "      <td>9999</td>\n",
       "      <td>0.001827</td>\n",
       "      <td>1.399040e-03</td>\n",
       "      <td>0.001024</td>\n",
       "      <td>8.518696e-04</td>\n",
       "      <td>0.000311</td>\n",
       "    </tr>\n",
       "  </tbody>\n",
       "</table>\n",
       "<p>10000 rows × 5 columns</p>\n",
       "</div>"
      ],
      "text/plain": [
       "         Loop1         Loop2     Loop3         Loop4     Loop5\n",
       "0     0.000003  1.907349e-06  0.000002  1.907349e-06  0.000013\n",
       "1     0.000004  7.152557e-07  0.000002  1.907349e-06  0.000008\n",
       "2     0.000003  9.536743e-07  0.000002  1.907349e-06  0.000006\n",
       "3     0.000003  2.145767e-06  0.000002  2.145767e-06  0.000006\n",
       "4     0.000004  9.536743e-07  0.000002  9.536743e-07  0.000007\n",
       "...        ...           ...       ...           ...       ...\n",
       "9995  0.001803  1.389980e-03  0.001022  8.578300e-04  0.000311\n",
       "9996  0.001795  1.399755e-03  0.001044  8.492470e-04  0.000311\n",
       "9997  0.001796  1.389027e-03  0.001019  8.251667e-04  0.000310\n",
       "9998  0.001878  1.464128e-03  0.001021  8.251667e-04  0.000311\n",
       "9999  0.001827  1.399040e-03  0.001024  8.518696e-04  0.000311\n",
       "\n",
       "[10000 rows x 5 columns]"
      ]
     },
     "execution_count": 4,
     "metadata": {},
     "output_type": "execute_result"
    }
   ],
   "source": [
    "import time\n",
    "import pandas as pd\n",
    "n = 10000\n",
    "\n",
    "column_names = ['Loop1', 'Loop2', 'Loop3', 'Loop4', 'Loop5']\n",
    "\n",
    "results = pd.DataFrame(columns = column_names)\n",
    "\n",
    "for i in range(n):\n",
    "    start = time.time()\n",
    "    loop1(i)\n",
    "    end = time.time()\n",
    "    L1 = end - start\n",
    "\n",
    "    start = time.time()\n",
    "    loop2(i)\n",
    "    end = time.time()\n",
    "    L2 = end - start\n",
    "\n",
    "    start = time.time()\n",
    "    loop3(i)\n",
    "    end = time.time()\n",
    "    L3 = end - start\n",
    "\n",
    "    start = time.time()\n",
    "    loop4(i)\n",
    "    end = time.time()\n",
    "    L4 = end - start\n",
    "\n",
    "    start = time.time()\n",
    "    loop5(i)\n",
    "    end = time.time()\n",
    "    L5 = end - start\n",
    "\n",
    "    results = results.append(pd.Series([L1, L2, L3, L4, L5], index=results.columns ), ignore_index=True)\n",
    "    \n",
    "\n",
    "results\n"
   ]
  },
  {
   "cell_type": "code",
   "execution_count": 5,
   "metadata": {},
   "outputs": [],
   "source": [
    "import matplotlib.pyplot as plt\n",
    "plt.close('all')"
   ]
  },
  {
   "cell_type": "code",
   "execution_count": 13,
   "metadata": {},
   "outputs": [
    {
     "data": {
      "image/png": "[encoded data removed]",
      "text/plain": [
       "<Figure size 432x288 with 1 Axes>"
      ]
     },
     "metadata": {
      "needs_background": "light"
     },
     "output_type": "display_data"
    }
   ],
   "source": [
    "plt.figure();\n",
    "results.mean().plot(kind='bar');"
   ]
  },
  {
   "cell_type": "code",
   "execution_count": 14,
   "metadata": {},
   "outputs": [
    {
     "data": {
      "image/png": "[encoded data removed]",
      "text/plain": [
       "<Figure size 432x288 with 1 Axes>"
      ]
     },
     "metadata": {
      "needs_background": "light"
     },
     "output_type": "display_data"
    }
   ],
   "source": [
    "plt.figure();\n",
    "results.max().plot(kind='bar');"
   ]
  },
  {
   "cell_type": "code",
   "execution_count": null,
   "metadata": {},
   "outputs": [],
   "source": [
    "plt.figure();\n",
    "results.min().plot(kind='bar');"
   ]
  },
  {
   "cell_type": "code",
   "execution_count": 9,
   "metadata": {},
   "outputs": [
    {
     "data": {
      "text/plain": [
       "<Figure size 432x288 with 0 Axes>"
      ]
     },
     "metadata": {},
     "output_type": "display_data"
    },
    {
     "data": {
      "image/png": "[encoded data removed]",
      "text/plain": [
       "<Figure size 432x288 with 1 Axes>"
      ]
     },
     "metadata": {
      "needs_background": "light"
     },
     "output_type": "display_data"
    }
   ],
   "source": [
    "plt.figure();\n",
    "results.plot(kind='line');"
   ]
  },
  {
   "cell_type": "code",
   "execution_count": 12,
   "metadata": {},
   "outputs": [
    {
     "name": "stdout",
     "output_type": "stream",
     "text": [
      "Loop 1:\n",
      "884 µs ± 14 µs per loop (mean ± std. dev. of 7 runs, 1000 loops each)\n",
      "Loop 2:\n",
      "883 µs ± 11.3 µs per loop (mean ± std. dev. of 7 runs, 1000 loops each)\n",
      "Loop 3:\n",
      "880 µs ± 14.5 µs per loop (mean ± std. dev. of 7 runs, 1000 loops each)\n",
      "Loop 4:\n",
      "879 µs ± 14.9 µs per loop (mean ± std. dev. of 7 runs, 1000 loops each)\n",
      "Loop 5:\n",
      "323 µs ± 10.3 µs per loop (mean ± std. dev. of 7 runs, 1000 loops each)\n"
     ]
    }
   ],
   "source": [
    "print(\"Loop 1:\")\n",
    "%timeit loop4(n)\n",
    "\n",
    "print(\"Loop 2:\")\n",
    "%timeit loop4(n)\n",
    "\n",
    "print(\"Loop 3:\")\n",
    "%timeit loop4(n)\n",
    "\n",
    "print(\"Loop 4:\")\n",
    "%timeit loop4(n)\n",
    "\n",
    "print(\"Loop 5:\")\n",
    "%timeit loop5(n)"
   ]
  },
  {
   "cell_type": "code",
   "execution_count": null,
   "metadata": {},
   "outputs": [],
   "source": []
  }
 ],
 "metadata": {
  "kernelspec": {
   "display_name": "Python 3",
   "language": "python",
   "name": "python3"
  },
  "language_info": {
   "codemirror_mode": {
    "name": "ipython",
    "version": 3
   },
   "file_extension": ".py",
   "mimetype": "text/x-python",
   "name": "python",
   "nbconvert_exporter": "python",
   "pygments_lexer": "ipython3",
   "version": "3.7.4"
  }
 },
 "nbformat": 4,
 "nbformat_minor": 4
}
