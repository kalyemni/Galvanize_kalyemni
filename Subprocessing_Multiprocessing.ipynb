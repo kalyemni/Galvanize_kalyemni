{
 "cells": [
  {
   "cell_type": "code",
   "execution_count": 17,
   "metadata": {},
   "outputs": [],
   "source": [
    "from RunGreatCircle import great_circle"
   ]
  },
  {
   "cell_type": "code",
   "execution_count": 18,
   "metadata": {},
   "outputs": [
    {
     "name": "stdout",
     "output_type": "stream",
     "text": [
      "3762.884718393407\n"
     ]
    }
   ],
   "source": [
    "print(great_circle(-13,73,-105,38))"
   ]
  },
  {
   "cell_type": "code",
   "execution_count": 19,
   "metadata": {},
   "outputs": [],
   "source": [
    "import numpy as np\n",
    "import time\n",
    "n = 1000000\n",
    "m = np.random.randint(-360,360,n*4).reshape(n,4)"
   ]
  },
  {
   "cell_type": "code",
   "execution_count": 20,
   "metadata": {},
   "outputs": [
    {
     "name": "stdout",
     "output_type": "stream",
     "text": [
      "Python time 00:00:03\n"
     ]
    }
   ],
   "source": [
    "import subprocess\n",
    "\n",
    "\n",
    "# run python\n",
    "timeStart = time.time()\n",
    "cmd = 'python RunGreatCircle.py'\n",
    "proc = subprocess.call(cmd,shell=True)\n",
    "runTime = time.time() - timeStart\n",
    "print(\"Python time\", time.strftime('%H:%M:%S', time.gmtime(runTime)))"
   ]
  },
  {
   "cell_type": "code",
   "execution_count": 21,
   "metadata": {},
   "outputs": [
    {
     "name": "stdout",
     "output_type": "stream",
     "text": [
      "Python time 00:00:00\n"
     ]
    }
   ],
   "source": [
    "import subprocess\n",
    "\n",
    "\n",
    "# run python\n",
    "timeStart = time.time()\n",
    "cmd = 'python RunGreatCircle.py'\n",
    "proc = subprocess.call(cmd,shell=True)\n",
    "runTime = time.time() - timeStart\n",
    "print(\"Python time\", time.strftime('%H:%M:%S', time.gmtime(runTime)))"
   ]
  },
  {
   "cell_type": "code",
   "execution_count": 25,
   "metadata": {},
   "outputs": [
    {
     "name": "stdout",
     "output_type": "stream",
     "text": [
      "pass return code 0\n",
      "The subprocess was auto-terminated due to timeout\n",
      "... None\n",
      "fail return code -15\n"
     ]
    }
   ],
   "source": [
    "#!/usr/bin/env python\n",
    "# -*- coding: utf-8 -*-\n",
    "\n",
    "import os,subprocess,threading\n",
    "\n",
    "def run_subprocess(cmd):\n",
    "    proc = subprocess.Popen(cmd,shell=True,stdout=subprocess.PIPE,stdin=subprocess.PIPE)\n",
    "    while True:\n",
    "        try:\n",
    "            next_line = proc.stdout.readline()\n",
    "            proc.wait()\n",
    "            if next_line == '' and proc.poll() != None:\n",
    "                break\n",
    "        except:\n",
    "            proc.wait()\n",
    "            break\n",
    "\n",
    "class RunSubprocess(object):\n",
    "    \"\"\"\n",
    "    a generic class to control a subprocess with threads\n",
    "    \"\"\"\n",
    "\n",
    "    def __init__(self, cmd, mainWindow=None):\n",
    "        self.cmd = cmd\n",
    "        self.mainWindow = mainWindow\n",
    "        self.process = None\n",
    "        self.stdOut,self.stdErr = None,None\n",
    "\n",
    "    def run(self,timeout=100):\n",
    "        def target():\n",
    "            self.process = subprocess.Popen(self.cmd,shell=True,stderr=subprocess.PIPE,\n",
    "                                stdout=subprocess.PIPE,universal_newlines=True,bufsize=4096)\n",
    "\n",
    "            self.stdOut, self.stdErr = self.process.communicate()\n",
    "\n",
    "        self.thread = threading.Thread(target=target)\n",
    "        self.thread.start()\n",
    "\n",
    "        ## wait a specified amount of time before terminating\n",
    "        if timeout != None:\n",
    "            self.thread.join(timeout)\n",
    "            if self.thread.is_alive():\n",
    "                print('The subprocess was auto-terminated due to timeout')\n",
    "                print(\"...\", self.process.poll())\n",
    "                self.process.terminate()\n",
    "                self.thread.join()\n",
    "        \n",
    "            return self.process.returncode\n",
    "        return None\n",
    "\n",
    "    def add_text(self):\n",
    "        if self.textScreen == None:\n",
    "            return\n",
    "        \n",
    "        if self.textScreen.showMessages == False:\n",
    "            self.textScreen.toggle_message_btn()\n",
    "            \n",
    "        self.textScreen.add_text(txt)\n",
    "        QtGui.QApplication.processEvents()\n",
    "\n",
    "    def terminate(self):\n",
    "        if self.thread.is_alive():\n",
    "            self.process.terminate()\n",
    "            self.thread.join()\n",
    "\n",
    "if __name__ == '__main__':\n",
    "    \n",
    "    myProcess = RunSubprocess(\"echo 'Process started'; sleep 2; echo 'Process finished'\")\n",
    "    \n",
    "    ## test should pass\n",
    "    returnCode = myProcess.run(timeout=10)\n",
    "    print('pass return code', returnCode)\n",
    "\n",
    "    ## test should fail\n",
    "    returnCode = myProcess.run(timeout=1)\n",
    "    print('fail return code', returnCode)\n"
   ]
  },
  {
   "cell_type": "markdown",
   "metadata": {},
   "source": [
    "# Multiprocessing"
   ]
  },
  {
   "cell_type": "code",
   "execution_count": null,
   "metadata": {},
   "outputs": [],
   "source": [
    "from multiprocessing import Pool, cpu_count\n",
    "total_cores = cpu_count()\n",
    "print('total cores: ', total_cores)"
   ]
  },
  {
   "cell_type": "code",
   "execution_count": null,
   "metadata": {},
   "outputs": [],
   "source": []
  },
  {
   "cell_type": "code",
   "execution_count": null,
   "metadata": {},
   "outputs": [],
   "source": [
    "import numpy as np\n",
    "from multiprocessing import pool\n",
    "from concurrent.futures import ThreadPoolExecutor, ProcessPoolExecutor\n",
    "\n",
    "def f(x):\n",
    "    return x*x\n",
    "\n",
    "with ProcessPoolExecutor(max_workers=4) as pool:\n",
    "    result = pool.map(f, range(10))\n",
    "    result = np.array(list(result))\n",
    "    print(result)"
   ]
  },
  {
   "cell_type": "code",
   "execution_count": 31,
   "metadata": {},
   "outputs": [
    {
     "name": "stdout",
     "output_type": "stream",
     "text": [
      "great circle via looping...\n"
     ]
    },
    {
     "ename": "TypeError",
     "evalue": "great_circle() missing 3 required positional arguments: 'lat1', 'lon2', and 'lat2'",
     "output_type": "error",
     "traceback": [
      "\u001b[0;31m---------------------------------------------------------------------------\u001b[0m",
      "\u001b[0;31mTypeError\u001b[0m                                 Traceback (most recent call last)",
      "\u001b[0;32m<ipython-input-31-1a189d562960>\u001b[0m in \u001b[0;36m<module>\u001b[0;34m\u001b[0m\n\u001b[1;32m    147\u001b[0m     \u001b[0;31m## slow way\u001b[0m\u001b[0;34m\u001b[0m\u001b[0;34m\u001b[0m\u001b[0;34m\u001b[0m\u001b[0m\n\u001b[1;32m    148\u001b[0m     \u001b[0mprint\u001b[0m\u001b[0;34m(\u001b[0m\u001b[0;34m\"great circle via looping...\"\u001b[0m\u001b[0;34m)\u001b[0m\u001b[0;34m\u001b[0m\u001b[0;34m\u001b[0m\u001b[0m\n\u001b[0;32m--> 149\u001b[0;31m     \u001b[0mrun_slow_way\u001b[0m\u001b[0;34m(\u001b[0m\u001b[0mm\u001b[0m\u001b[0;34m)\u001b[0m\u001b[0;34m\u001b[0m\u001b[0;34m\u001b[0m\u001b[0m\n\u001b[0m\u001b[1;32m    150\u001b[0m \u001b[0;34m\u001b[0m\u001b[0m\n\u001b[1;32m    151\u001b[0m     \u001b[0;31m## numpy way\u001b[0m\u001b[0;34m\u001b[0m\u001b[0;34m\u001b[0m\u001b[0;34m\u001b[0m\u001b[0m\n",
      "\u001b[0;32m<ipython-input-31-1a189d562960>\u001b[0m in \u001b[0;36mf\u001b[0;34m(*args, **kwargs)\u001b[0m\n\u001b[1;32m     11\u001b[0m         \u001b[0;32mimport\u001b[0m \u001b[0mtime\u001b[0m\u001b[0;34m\u001b[0m\u001b[0;34m\u001b[0m\u001b[0m\n\u001b[1;32m     12\u001b[0m         \u001b[0mstart\u001b[0m \u001b[0;34m=\u001b[0m \u001b[0mtime\u001b[0m\u001b[0;34m.\u001b[0m\u001b[0mtime\u001b[0m\u001b[0;34m(\u001b[0m\u001b[0;34m)\u001b[0m\u001b[0;34m\u001b[0m\u001b[0;34m\u001b[0m\u001b[0m\n\u001b[0;32m---> 13\u001b[0;31m         \u001b[0mresults\u001b[0m \u001b[0;34m=\u001b[0m \u001b[0mfunc\u001b[0m\u001b[0;34m(\u001b[0m\u001b[0;34m*\u001b[0m\u001b[0margs\u001b[0m\u001b[0;34m,\u001b[0m \u001b[0;34m**\u001b[0m\u001b[0mkwargs\u001b[0m\u001b[0;34m)\u001b[0m\u001b[0;34m\u001b[0m\u001b[0;34m\u001b[0m\u001b[0m\n\u001b[0m\u001b[1;32m     14\u001b[0m         \u001b[0mprint\u001b[0m\u001b[0;34m(\u001b[0m\u001b[0;34m\"Elapsed: %.2fs\"\u001b[0m \u001b[0;34m%\u001b[0m \u001b[0;34m(\u001b[0m\u001b[0mtime\u001b[0m\u001b[0;34m.\u001b[0m\u001b[0mtime\u001b[0m\u001b[0;34m(\u001b[0m\u001b[0;34m)\u001b[0m \u001b[0;34m-\u001b[0m \u001b[0mstart\u001b[0m\u001b[0;34m)\u001b[0m\u001b[0;34m)\u001b[0m\u001b[0;34m\u001b[0m\u001b[0;34m\u001b[0m\u001b[0m\n\u001b[1;32m     15\u001b[0m         \u001b[0;32mreturn\u001b[0m\u001b[0;34m(\u001b[0m\u001b[0mresults\u001b[0m\u001b[0;34m)\u001b[0m\u001b[0;34m\u001b[0m\u001b[0;34m\u001b[0m\u001b[0m\n",
      "\u001b[0;32m<ipython-input-31-1a189d562960>\u001b[0m in \u001b[0;36mrun_slow_way\u001b[0;34m(mat)\u001b[0m\n\u001b[1;32m    143\u001b[0m     \u001b[0;32mdef\u001b[0m \u001b[0mrun_slow_way\u001b[0m\u001b[0;34m(\u001b[0m\u001b[0mmat\u001b[0m\u001b[0;34m)\u001b[0m\u001b[0;34m:\u001b[0m\u001b[0;34m\u001b[0m\u001b[0;34m\u001b[0m\u001b[0m\n\u001b[1;32m    144\u001b[0m         \u001b[0;32mfor\u001b[0m \u001b[0mi\u001b[0m \u001b[0;32min\u001b[0m \u001b[0mrange\u001b[0m\u001b[0;34m(\u001b[0m\u001b[0mmat\u001b[0m\u001b[0;34m.\u001b[0m\u001b[0mshape\u001b[0m\u001b[0;34m[\u001b[0m\u001b[0;36m0\u001b[0m\u001b[0;34m]\u001b[0m\u001b[0;34m)\u001b[0m\u001b[0;34m:\u001b[0m\u001b[0;34m\u001b[0m\u001b[0;34m\u001b[0m\u001b[0m\n\u001b[0;32m--> 145\u001b[0;31m             \u001b[0mx\u001b[0m \u001b[0;34m=\u001b[0m \u001b[0mgreat_circle\u001b[0m\u001b[0;34m(\u001b[0m\u001b[0mmat\u001b[0m\u001b[0;34m[\u001b[0m\u001b[0mi\u001b[0m\u001b[0;34m,\u001b[0m\u001b[0;34m:\u001b[0m\u001b[0;34m]\u001b[0m\u001b[0;34m)\u001b[0m\u001b[0;34m\u001b[0m\u001b[0;34m\u001b[0m\u001b[0m\n\u001b[0m\u001b[1;32m    146\u001b[0m \u001b[0;34m\u001b[0m\u001b[0m\n\u001b[1;32m    147\u001b[0m     \u001b[0;31m## slow way\u001b[0m\u001b[0;34m\u001b[0m\u001b[0;34m\u001b[0m\u001b[0;34m\u001b[0m\u001b[0m\n",
      "\u001b[0;31mTypeError\u001b[0m: great_circle() missing 3 required positional arguments: 'lat1', 'lon2', and 'lat2'"
     ]
    }
   ],
   "source": [
    "import time,math,os\n",
    "from multiprocessing import Pool, cpu_count\n",
    "from concurrent.futures import ThreadPoolExecutor, ProcessPoolExecutor\n",
    "import numpy as np\n",
    "\n",
    "\n",
    "def func_timer(func):\n",
    "    \"\"\"Times how long the function took.\"\"\"\n",
    "\n",
    "    def f(*args, **kwargs):\n",
    "        import time\n",
    "        start = time.time()\n",
    "        results = func(*args, **kwargs)\n",
    "        print(\"Elapsed: %.2fs\" % (time.time() - start))\n",
    "        return(results)\n",
    "    return(f)\n",
    "    \n",
    "@func_timer\n",
    "def test_function(msg, sleep=1.0):\n",
    "    \"\"\"Delays a while before answering.\"\"\"\n",
    "    import time\n",
    "    time.sleep(sleep)\n",
    "    print(msg)\n",
    "\n",
    "@func_timer\n",
    "def loop1(n):\n",
    "    \"\"\"Using for loop with function call.\"\"\"\n",
    "    z = []\n",
    "    for i in range(n):\n",
    "        z.append(math.sin(i))\n",
    "    return z\n",
    "\n",
    "@func_timer\n",
    "def loop2(n):\n",
    "    \"\"\"Using local version of function.\"\"\"\n",
    "    z = []\n",
    "    sin = math.sin\n",
    "    for i in range(n):\n",
    "        z.append(sin(i))\n",
    "    return z\n",
    "\n",
    "@func_timer\n",
    "def loop3(n):\n",
    "    \"\"\"Using list comprehension.\"\"\"\n",
    "    sin = math.sin\n",
    "    return [sin(i) for i in range(n)]\n",
    "\n",
    "@func_timer\n",
    "def loop4(n):\n",
    "    \"\"\"Using map.\"\"\"\n",
    "    sin = math.sin\n",
    "    return list(map(sin, range(n)))\n",
    "\n",
    "@func_timer\n",
    "def loop5(n):\n",
    "    \"\"\"Using numpy.\"\"\"\n",
    "    return np.sin(np.arange(n)).tolist()\n",
    "\n",
    "\n",
    "def calculate_great_circle(lon1,lat1,lon2,lat2):\n",
    "    \"\"\"one step of the great circle calculation\"\"\"\n",
    "    lon1,lat1,lon2,lat2 \n",
    "    \n",
    "    radius = 3956.0\n",
    "    x = np.pi/180.0\n",
    "    a,b = (90.0-lat1)*(x),(90.0-lat2)*(x)\n",
    "    theta = (lon2-lon1)*(x)\n",
    "\n",
    "    c =  np.arccos((np.cos(a)*np.cos(b)) +\n",
    "                   (np.sin(a)*np.sin(b)*np.cos(theta)))\n",
    "    return(radius*c) \n",
    "\n",
    "@func_timer\n",
    "def great_circle_looping(mat):\n",
    "    \"\"\"basic great circle\"\"\"\n",
    "\n",
    "    result = np.zeros(mat.shape[0])\n",
    "    for i in range(mat.shape[0]):\n",
    "        result[i] = calculate_great_circle(mat[i,:])\n",
    "        \n",
    "    return result\n",
    "\n",
    "@func_timer\n",
    "def great_circle_numpy(mat):\n",
    "    \"\"\"numpys great circle\"\"\"\n",
    "    radius = 3956\n",
    "    x = np.pi/180.0\n",
    "    lon1 = mat[:,0]\n",
    "    lat1 = mat[:,1]\n",
    "    lon2 = mat[:,2]\n",
    "    lat2 = mat[:,3]\n",
    "    \n",
    "    a = (90.0-lat1)*(x)\n",
    "    b = (90.0-lat2)*(x)\n",
    "    theta = (lon2-lon1)*(x)\n",
    "    c = np.arccos((np.cos(a)*np.cos(b)) +\n",
    "                  (np.sin(a)*np.sin(b)*np.cos(theta)))\n",
    "    return radius*c\n",
    "\n",
    "class GreatCircleMultiprocessing(object):\n",
    "    \"\"\"multiprocessing version using async pool\"\"\"\n",
    "    def __init__(self,mat):\n",
    "        self.mat = mat\n",
    "    \n",
    "    def run(self,mat):\n",
    "        po = Pool(processes=cpu_count()-1)\n",
    "        _results = po.map_async(great_circle,(mat[i,:] for i in range(mat.shape[0])))\n",
    "        results =  _results.get()\n",
    "        return(results)\n",
    "\n",
    "    def great_circle_multiprocessing(self,mat,chunksize=500):\n",
    "        \"\"\"multiprocessing version of the great circle usng Ececutors\"\"\"\n",
    "        with ProcessPoolExecutor(max_workers=cpu_count()-1) as pool:\n",
    "            result = pool.map(great_circle,(mat[i,:] for i in range(mat.shape[0])),chunksize=chunksize)\n",
    "\n",
    "        return(np.array(list(result)))\n",
    "\n",
    "'''\n",
    "class GreatCircleMultiprocessing(object):\n",
    "    def run(self,mat,chunksize=500):\n",
    "        \"\"\"multiprocessing version of the great circle usng Ececutors\"\"\"\n",
    "        with ProcessPoolExecutor(max_workers=cpu_count()-1) as pool:\n",
    "            result = pool.map(great_circle,(mat[i,:] for i in range(mat.shape[0])),chunksize=chunksize)\n",
    "\n",
    "        return(np.array(list(result)))\n",
    "'''\n",
    "    \n",
    "def great_circle_cython(mat):\n",
    "    os.system(\"python setup_gc.py build_ext --inplace\")\n",
    "    from greatcircle import great_circle\n",
    "    result = np.zeros(mat.shape[0])\n",
    "    for i in range(mat.shape[0]):\n",
    "        result[i] = great_circle(*mat[i,:])\n",
    "    return(result)\n",
    "\n",
    "\n",
    "if __name__ == \"__main__\":\n",
    "    \n",
    "    n = 500000\n",
    "    m = np.random.randint(-360,360,n*4).reshape(n,4)\n",
    "\n",
    "    @func_timer\n",
    "    def run_slow_way(mat):\n",
    "        for i in range(mat.shape[0]):\n",
    "            x = great_circle(mat[i,:])\n",
    "\n",
    "    ## slow way\n",
    "    print(\"great circle via looping...\")\n",
    "    run_slow_way(m)\n",
    "                   \n",
    "    ## numpy way\n",
    "    print(\"great circle via numpy...\")\n",
    "    great_circle_numpy(m)    \n",
    "    \n",
    "\n"
   ]
  },
  {
   "cell_type": "code",
   "execution_count": null,
   "metadata": {},
   "outputs": [],
   "source": []
  }
 ],
 "metadata": {
  "kernelspec": {
   "display_name": "Python 3",
   "language": "python",
   "name": "python3"
  },
  "language_info": {
   "codemirror_mode": {
    "name": "ipython",
    "version": 3
   },
   "file_extension": ".py",
   "mimetype": "text/x-python",
   "name": "python",
   "nbconvert_exporter": "python",
   "pygments_lexer": "ipython3",
   "version": "3.7.4"
  }
 },
 "nbformat": 4,
 "nbformat_minor": 4
}
